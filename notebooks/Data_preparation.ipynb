{
 "cells": [
  {
   "cell_type": "markdown",
   "id": "66c5afd3-7bad-48a4-97dd-c26654478608",
   "metadata": {},
   "source": [
    "# Data preparation"
   ]
  },
  {
   "cell_type": "code",
   "execution_count": 1,
   "id": "37f8e5bf-6852-40a9-9368-10a1c11bb6b7",
   "metadata": {},
   "outputs": [],
   "source": [
    "# Libraries\n",
    "\n",
    "## Basic libraries\n",
    "import numpy as np\n",
    "import pandas as pd\n",
    "import seaborn as sns\n",
    "\n",
    "## Plotting\n",
    "import matplotlib.pyplot as plt\n",
    "\n",
    "# Basic cleaning\n",
    "## Variance\n",
    "from sklearn.feature_selection import VarianceThreshold\n"
   ]
  },
  {
   "cell_type": "markdown",
   "id": "1c1e1e0a-4031-42da-bf67-dfaacab452d1",
   "metadata": {},
   "source": [
    "## Data cleaning"
   ]
  },
  {
   "cell_type": "markdown",
   "id": "a48f1fab-0668-457e-8af1-aa77241ba29f",
   "metadata": {},
   "source": [
    "### Basic data cleaning"
   ]
  },
  {
   "cell_type": "code",
   "execution_count": 2,
   "id": "52f073b7-3363-4f83-8fd9-54a221bba85d",
   "metadata": {},
   "outputs": [
    {
     "data": {
      "text/plain": [
       "'Shape of oil_spill_data : (937, 50)'"
      ]
     },
     "metadata": {},
     "output_type": "display_data"
    },
    {
     "data": {
      "text/plain": [
       "'Shape of iris_data : (150, 5)'"
      ]
     },
     "metadata": {},
     "output_type": "display_data"
    }
   ],
   "source": [
    "# Load datasets\n",
    "\n",
    "# Load Oil spill data\n",
    "path_oil_spill = \"https://raw.githubusercontent.com/jbrownlee/Datasets/master/oil-spill.csv\"\n",
    "oil_spill_data=pd.read_csv(path_oil_spill,header=None)\n",
    "display(f\"Shape of oil_spill_data : {oil_spill_data.shape}\")\n",
    "\n",
    "# Load Iris Flower dataset\n",
    "from sklearn.datasets import load_iris\n",
    "iris = load_iris()\n",
    "iris_data = pd.DataFrame(data=iris.data, columns=iris.feature_names)\n",
    "iris_data['target'] = iris.target\n",
    "display(f\"Shape of iris_data : {iris_data.shape}\")"
   ]
  },
  {
   "cell_type": "code",
   "execution_count": 3,
   "id": "b8aa01a3-ce64-4f06-a21f-184f172ad1ff",
   "metadata": {},
   "outputs": [],
   "source": [
    "# Copy of datasets\n",
    "oil_spill_data_copy = oil_spill_data.copy()\n",
    "iris_data_copy = iris_data.copy()"
   ]
  },
  {
   "cell_type": "markdown",
   "id": "f7e9b989-8262-41d6-ac6e-72b6262f7742",
   "metadata": {},
   "source": [
    "#### Identify Columns That Contain a Single Value"
   ]
  },
  {
   "cell_type": "code",
   "execution_count": 4,
   "id": "0125e699-8acd-497f-8d45-3c7550d1d517",
   "metadata": {},
   "outputs": [],
   "source": [
    "# Summurize the number of unique values in each column\n",
    "oil_spill_data.nunique();"
   ]
  },
  {
   "cell_type": "markdown",
   "id": "32e8de9c-389a-4c7a-9e41-791a2dd09767",
   "metadata": {},
   "source": [
    "#### Delete Columns That Contain a Single Value"
   ]
  },
  {
   "cell_type": "code",
   "execution_count": 5,
   "id": "bfb02183-8626-42f8-9b83-bdaa411c038c",
   "metadata": {},
   "outputs": [],
   "source": [
    "# Create a function to drop columns that have a single value\n",
    "def drop_single_value_columns(df : pd.DataFrame) -> pd.DataFrame:\n",
    "        \"\"\"\n",
    "    Drop columns with a single unique value \n",
    "    Args:\n",
    "        df (DataFrame): Raw data\n",
    "    Returns:\n",
    "        df (DataFrame) with no single value columns\n",
    "    \"\"\" \n",
    "        print(f\"Shape BEFORE dropping single value columns: {df.shape}\") \n",
    "        \n",
    "        # get number of unique values for each column \n",
    "        counts = df.nunique()\n",
    "        \n",
    "        # record columns to delete (i.e columns that only contain a unique value)\n",
    "        to_del = [i for i,v in enumerate(counts) if v == 1]\n",
    "    \n",
    "        print(f\"Names of single value columns: {to_del}\") \n",
    "        \n",
    "        # drop useless columns \n",
    "        df.drop(to_del, axis=1, inplace=True) \n",
    "        \n",
    "        print(f\"Shape AFTER dropping single value columns: {df.shape}\") \n",
    "        return df"
   ]
  },
  {
   "cell_type": "code",
   "execution_count": 6,
   "id": "84c8f26f-5d45-494e-a627-0164d3ee8239",
   "metadata": {},
   "outputs": [
    {
     "name": "stdout",
     "output_type": "stream",
     "text": [
      "Shape BEFORE dropping single value columns: (937, 50)\n",
      "Names of single value columns: [22]\n",
      "Shape AFTER dropping single value columns: (937, 49)\n"
     ]
    }
   ],
   "source": [
    "oil_spill_data = drop_single_value_columns(oil_spill_data)"
   ]
  },
  {
   "cell_type": "markdown",
   "id": "e1e458c9-c680-4a6b-80f7-e01ef4c1b957",
   "metadata": {},
   "source": [
    "#### Consider Columns That Have Very Few Values"
   ]
  },
  {
   "cell_type": "markdown",
   "id": "98712724-1246-46e8-8d02-a3938db14a5c",
   "metadata": {},
   "source": [
    "This does not mean that these rows and columns should be deleted, but they require further attention. <br>\n",
    "For example: <br>\n",
    "•\tPerhaps the unique values can be encoded as ordinal values? <br>\n",
    "•\tPerhaps the unique values can be encoded as categorical values? <br>\n",
    "•\tPerhaps compare model skill with each variable removed from the dataset?\n"
   ]
  },
  {
   "cell_type": "code",
   "execution_count": 7,
   "id": "6c8df85d-1727-41e4-9079-da0d90498d0d",
   "metadata": {},
   "outputs": [],
   "source": [
    "# Retrieve original data\n",
    "oil_spill_data = oil_spill_data_copy"
   ]
  },
  {
   "cell_type": "code",
   "execution_count": 8,
   "id": "a685b1f0-9669-4c1b-a979-f7bedc515fab",
   "metadata": {},
   "outputs": [],
   "source": [
    "# Create a function that print index, number of unique values and percentage of unique values per column in regard to total number of rows per column\n",
    "def show_unique_values_percentage(df : pd.DataFrame):\n",
    "    \"\"\"\n",
    "    Print index, number of unique values and percentage of unique values per column in regard to total number of rows per column\n",
    "    Args:\n",
    "        - df (DataFrame): Raw data\n",
    "    \"\"\"  \n",
    "    for i in range(df.shape[1]):\n",
    "        num = df.nunique().values[i]\n",
    "        percentage = float(num) / df.shape[0] * 100\n",
    "        print(f\"{i}, {num}, {round(percentage,1)}%\")"
   ]
  },
  {
   "cell_type": "code",
   "execution_count": 9,
   "id": "5b481ad6-069e-444e-8cf6-0b7c82c930a3",
   "metadata": {
    "scrolled": true
   },
   "outputs": [
    {
     "name": "stdout",
     "output_type": "stream",
     "text": [
      "0, 238, 25.4%\n",
      "1, 297, 31.7%\n",
      "2, 927, 98.9%\n",
      "3, 933, 99.6%\n",
      "4, 179, 19.1%\n",
      "5, 375, 40.0%\n",
      "6, 820, 87.5%\n",
      "7, 618, 66.0%\n",
      "8, 561, 59.9%\n",
      "9, 57, 6.1%\n",
      "10, 577, 61.6%\n",
      "11, 59, 6.3%\n",
      "12, 73, 7.8%\n",
      "13, 107, 11.4%\n",
      "14, 53, 5.7%\n",
      "15, 91, 9.7%\n",
      "16, 893, 95.3%\n",
      "17, 810, 86.4%\n",
      "18, 170, 18.1%\n",
      "19, 53, 5.7%\n",
      "20, 68, 7.3%\n",
      "21, 9, 1.0%\n",
      "22, 1, 0.1%\n",
      "23, 92, 9.8%\n",
      "24, 9, 1.0%\n",
      "25, 8, 0.9%\n",
      "26, 9, 1.0%\n",
      "27, 308, 32.9%\n",
      "28, 447, 47.7%\n",
      "29, 392, 41.8%\n",
      "30, 107, 11.4%\n",
      "31, 42, 4.5%\n",
      "32, 4, 0.4%\n",
      "33, 45, 4.8%\n",
      "34, 141, 15.0%\n",
      "35, 110, 11.7%\n",
      "36, 3, 0.3%\n",
      "37, 758, 80.9%\n",
      "38, 9, 1.0%\n",
      "39, 9, 1.0%\n",
      "40, 388, 41.4%\n",
      "41, 220, 23.5%\n",
      "42, 644, 68.7%\n",
      "43, 649, 69.3%\n",
      "44, 499, 53.3%\n",
      "45, 2, 0.2%\n",
      "46, 937, 100.0%\n",
      "47, 169, 18.0%\n",
      "48, 286, 30.5%\n",
      "49, 2, 0.2%\n"
     ]
    }
   ],
   "source": [
    "show_unique_values_percentage(oil_spill_data)"
   ]
  },
  {
   "cell_type": "code",
   "execution_count": 10,
   "id": "d2d9649f-932d-4ae5-9733-95d4d4f90693",
   "metadata": {},
   "outputs": [],
   "source": [
    "# Create a function that print index, number of unique values and percentage of unique values per column in regard to total number of rows per column\n",
    "def show_unique_values_percentage_below_threshold(df : pd.DataFrame,threshold : float):\n",
    "    \"\"\"\n",
    "    Print index, number of unique values (below a threshold) and percentage of unique values per column in regard to total number of rows per column\n",
    "    Args:\n",
    "        - df (DataFrame): Raw data\n",
    "        - threshold (float) : percentage (%)\n",
    "    \"\"\"  \n",
    "    for i in range(df.shape[1]):\n",
    "        num = df.nunique().values[i]\n",
    "        percentage = float(num) / df.shape[0] * 100\n",
    "        if percentage < threshold:\n",
    "            print(f\"{i}, {num}, {round(percentage,1)}%\")"
   ]
  },
  {
   "cell_type": "code",
   "execution_count": 11,
   "id": "ab28cccb-cf5a-41a4-a4fa-1974bda91d6f",
   "metadata": {},
   "outputs": [
    {
     "name": "stdout",
     "output_type": "stream",
     "text": [
      "21, 9, 1.0%\n",
      "22, 1, 0.1%\n",
      "24, 9, 1.0%\n",
      "25, 8, 0.9%\n",
      "26, 9, 1.0%\n",
      "32, 4, 0.4%\n",
      "36, 3, 0.3%\n",
      "38, 9, 1.0%\n",
      "39, 9, 1.0%\n",
      "45, 2, 0.2%\n",
      "49, 2, 0.2%\n"
     ]
    }
   ],
   "source": [
    "show_unique_values_percentage_below_threshold(oil_spill_data, 1.0)"
   ]
  },
  {
   "cell_type": "code",
   "execution_count": 12,
   "id": "bbc60885-5dab-413d-9db1-54a388b8d247",
   "metadata": {},
   "outputs": [],
   "source": [
    "# Create a function to get columns where number of unique values is less than X% of the rows of the entire considered dataset\n",
    "def get_columns_with_few_values_under_threshold(df : pd.DataFrame, threshold : float) -> list:\n",
    "    \"\"\"\n",
    "    Get columns where number of unique values is less than X% of the rows of the entire considered dataset\n",
    "    Args:\n",
    "        - df (DataFrame): Raw data\n",
    "        - threshold (float) : percentage (%)\n",
    "    Returns:\n",
    "        df (DataFrame) with no columns whose number of unique values are below threshold (in regard to total number of rows of considered dataset)\n",
    "    \"\"\"    \n",
    "    # get number of unique values for each column \n",
    "    counts = df.nunique() \n",
    "    \n",
    "    # record columns to delete \n",
    "    cols_with_few_values = [i for i,v in enumerate(counts) if (float(v)/df.shape[0]*100) < threshold]\n",
    "\n",
    "    return cols_with_few_values"
   ]
  },
  {
   "cell_type": "code",
   "execution_count": 13,
   "id": "d5311ad7-9045-4b1b-a5bc-1518f1926699",
   "metadata": {},
   "outputs": [
    {
     "data": {
      "text/plain": [
       "[21, 22, 24, 25, 26, 32, 36, 38, 39, 45, 49]"
      ]
     },
     "execution_count": 13,
     "metadata": {},
     "output_type": "execute_result"
    }
   ],
   "source": [
    "get_columns_with_few_values_under_threshold(oil_spill_data, 1.0)"
   ]
  },
  {
   "cell_type": "code",
   "execution_count": 14,
   "id": "2c5e07e2-af6b-442e-88ed-c68da711d806",
   "metadata": {},
   "outputs": [],
   "source": [
    "# Create a function to drop columns where number of unique values is less than X% of the rows of the entire considered dataset\n",
    "def drop_columns_with_few_values_under_threshold(df : pd.DataFrame, threshold : float) -> pd.DataFrame:\n",
    "    \"\"\"\n",
    "    Drop columns where number of unique values is less than X% of the rows of the entire considered dataset\n",
    "    Args:\n",
    "        - df (DataFrame): Raw data\n",
    "        - threshold (float) : percentage (%)\n",
    "    Returns:\n",
    "        df (DataFrame) with no columns whose number of unique values are below threshold (in regard to total number of rows of considered dataset)\n",
    "    \"\"\" \n",
    "    print(f\"Shape BEFORE dropping few value columns: {df.shape}\")\n",
    "    \n",
    "    # get number of unique values for each column \n",
    "    counts = df.nunique() \n",
    "    \n",
    "    # record columns to delete \n",
    "    to_del = [i for i,v in enumerate(counts) if (float(v)/df.shape[0]*100) < threshold]\n",
    "\n",
    "    print(f\"Names of columns with few values: {to_del}\") \n",
    "    \n",
    "    # drop useless columns \n",
    "    df.drop(to_del, axis=1, inplace=True) \n",
    "    \n",
    "    print(f\"Shape AFTER dropping columns with few values: {df.shape}\") \n",
    "    return df"
   ]
  },
  {
   "cell_type": "code",
   "execution_count": 15,
   "id": "52eeb024-a749-46aa-b811-2b064dfc5825",
   "metadata": {},
   "outputs": [
    {
     "name": "stdout",
     "output_type": "stream",
     "text": [
      "Shape BEFORE dropping few value columns: (937, 50)\n",
      "Names of columns with few values: [21, 22, 24, 25, 26, 32, 36, 38, 39, 45, 49]\n",
      "Shape AFTER dropping columns with few values: (937, 39)\n"
     ]
    }
   ],
   "source": [
    "oil_spill_data = drop_columns_with_few_values_under_threshold(oil_spill_data, 1.0)"
   ]
  },
  {
   "cell_type": "markdown",
   "id": "090ce8ba-aebc-4bdd-98ce-8c4113b14be9",
   "metadata": {},
   "source": [
    "#### Remove columns that have a low variance"
   ]
  },
  {
   "cell_type": "code",
   "execution_count": 16,
   "id": "c4d4475e-c469-4252-a39f-3ed231f77e3e",
   "metadata": {},
   "outputs": [],
   "source": [
    "# explore the effect of the variance thresholds on the number of selected features from numpy import arange \n",
    "def explore_variance_threshold_effects(df : pd.DataFrame, range : np.arange):\n",
    "    \"\"\"\n",
    "    Explore the effect of the variance thresholds on the number of selected features from numpy import arange \n",
    "    Args:\n",
    "        - df (DataFrame): Raw data\n",
    "        - range (np.arange) : variance range to check\n",
    "    Returns:\n",
    "        - Print number of features whose variance is over the considered threshold\n",
    "        - Plot the number of features whose variance is over the considered threshold\n",
    "    \"\"\" \n",
    "    \n",
    "    # apply transform with each threshold \n",
    "    results = list() \n",
    "\n",
    "    for t in range: \n",
    "        # define the transform \n",
    "        transform = VarianceThreshold(threshold=t) \n",
    "        \n",
    "        # transform the input data \n",
    "        df_sel = transform.fit_transform(df) \n",
    "        \n",
    "        # determine the number of input features \n",
    "        n_features = df_sel.shape[1] \n",
    "        \n",
    "        print(f\">Threshold={round(t,2)}, Features={n_features}\")\n",
    "        \n",
    "        # store the result \n",
    "        results.append(n_features) \n",
    "        \n",
    "    # plot the threshold vs the number of selected features \n",
    "    plt.plot(range, results) \n",
    "    plt.show()"
   ]
  },
  {
   "cell_type": "code",
   "execution_count": 17,
   "id": "9cb3c3bd-8e47-4b1e-8229-da5fd4a3daf3",
   "metadata": {},
   "outputs": [
    {
     "name": "stdout",
     "output_type": "stream",
     "text": [
      "(937, 38) (937,)\n",
      ">Threshold=0.0, Features=38\n",
      ">Threshold=0.05, Features=29\n",
      ">Threshold=0.1, Features=28\n",
      ">Threshold=0.15, Features=28\n",
      ">Threshold=0.2, Features=28\n",
      ">Threshold=0.25, Features=28\n",
      ">Threshold=0.3, Features=28\n",
      ">Threshold=0.35, Features=28\n",
      ">Threshold=0.4, Features=28\n",
      ">Threshold=0.45, Features=26\n",
      ">Threshold=0.5, Features=25\n"
     ]
    },
    {
     "data": {
      "image/png": "[encoded data removed]",
      "text/plain": [
       "<Figure size 640x480 with 1 Axes>"
      ]
     },
     "metadata": {},
     "output_type": "display_data"
    }
   ],
   "source": [
    "# Retrieve original data\n",
    "oil_spill_data = oil_spill_data_copy\n",
    "\n",
    "# split data into inputs and outputs \n",
    "data = oil_spill_data.values \n",
    "X = data[:, :-1] \n",
    "y = data[:, -1] \n",
    "print(X.shape, y.shape) \n",
    "\n",
    "# define variance thresholds to check \n",
    "thresholds = np.arange(0.0, 0.55, 0.05) \n",
    "\n",
    "explore_variance_threshold_effects(X, thresholds)"
   ]
  },
  {
   "cell_type": "code",
   "execution_count": 18,
   "id": "00e7d9f0-e00d-4431-b472-e1239c53ade9",
   "metadata": {},
   "outputs": [
    {
     "name": "stdout",
     "output_type": "stream",
     "text": [
      "(937, 38)\n",
      "(937, 28)\n"
     ]
    }
   ],
   "source": [
    "# Remove features whose variance is lower than threshold\n",
    "threshold = 0.4\n",
    "\n",
    "# Retrieve original data\n",
    "oil_spill_data = oil_spill_data_copy\n",
    "\n",
    "# split data into inputs and outputs \n",
    "data = oil_spill_data.values \n",
    "X = data[:, :-1] \n",
    "y = data[:, -1] \n",
    "print(X.shape) \n",
    "\n",
    "# define the transform \n",
    "transform = VarianceThreshold(threshold=threshold) \n",
    "\n",
    "# transform the input data \n",
    "X_sel = transform.fit_transform(X) \n",
    "\n",
    "print(X_sel.shape) "
   ]
  },
  {
   "cell_type": "markdown",
   "id": "8b700851-aa74-4fde-b513-1d722115ac8b",
   "metadata": {},
   "source": [
    "#### Identify rows that contain duplicate data"
   ]
  },
  {
   "cell_type": "code",
   "execution_count": 19,
   "id": "a2e3e05b-1e5c-45fe-9916-22a88fee8807",
   "metadata": {},
   "outputs": [],
   "source": [
    "# Retrieve original data\n",
    "iris_data = iris_data_copy"
   ]
  },
  {
   "cell_type": "code",
   "execution_count": 20,
   "id": "f2ef4987-6e48-4a0d-836f-3ab00ad04b96",
   "metadata": {},
   "outputs": [
    {
     "name": "stdout",
     "output_type": "stream",
     "text": [
      "True\n",
      "     sepal length (cm)  sepal width (cm)  petal length (cm)  petal width (cm)  \\\n",
      "142                5.8               2.7                5.1               1.9   \n",
      "\n",
      "     target  \n",
      "142       2  \n"
     ]
    }
   ],
   "source": [
    "# calculate duplicates \n",
    "dups = iris_data.duplicated() \n",
    "\n",
    "# report if there are any duplicates \n",
    "print(dups.any()) \n",
    "\n",
    "# list all duplicate rows \n",
    "print(iris_data[dups])"
   ]
  },
  {
   "cell_type": "markdown",
   "id": "6ac0d279-1093-4e1c-9a1e-da001eb40c1b",
   "metadata": {},
   "source": [
    "#### Delete rows thtat contain duplicate data"
   ]
  },
  {
   "cell_type": "code",
   "execution_count": 21,
   "id": "749d3212-b6ba-4c59-851b-69c4e9eea65a",
   "metadata": {},
   "outputs": [],
   "source": [
    "def check_duplicates(df):\n",
    "    \"\"\"\n",
    "    Counts duplicated rows. If any, function drops duplicated rows.\n",
    "    Args:\n",
    "        df (DataFrame): Raw data\n",
    "    Returns:\n",
    "        - df (Dataframe) without duplicated rows, a string otherwise.\n",
    "    \"\"\"\n",
    "\n",
    "    # Check number of rows before removing duplicates\n",
    "    print(f\"Number of rows : {len(df)}\")\n",
    "\n",
    "    # Compute the number of duplicated rows\n",
    "    num_dups = df.duplicated().sum()\n",
    "    \n",
    "    print(f\"Number of duplicated rows : {num_dups}\")\n",
    "\n",
    "    if df.duplicated().any():\n",
    "        # Remove duplicates\n",
    "        df_no_duplicates = df.drop_duplicates()\n",
    "        print(f\"{num_dups} duplicated row(s) removed\")\n",
    "        return df_no_duplicates\n",
    "    else:\n",
    "        return \"No duplicated rows found !\"    "
   ]
  },
  {
   "cell_type": "code",
   "execution_count": 22,
   "id": "fe22e7fa-8cd6-4220-ae49-5614f3571375",
   "metadata": {},
   "outputs": [
    {
     "name": "stdout",
     "output_type": "stream",
     "text": [
      "Number of rows : 150\n",
      "Number of duplicated rows : 1\n",
      "1 duplicated row(s) removed\n"
     ]
    }
   ],
   "source": [
    "iris_data_no_dups = check_duplicates(iris_data)"
   ]
  },
  {
   "cell_type": "markdown",
   "id": "f1f7c6ee-09eb-4a60-9657-f57463cca397",
   "metadata": {},
   "source": [
    "### Outlier Identification and Removal"
   ]
  },
  {
   "cell_type": "code",
   "execution_count": 23,
   "id": "045b4a43-6f1a-42e5-acbe-095139d4155c",
   "metadata": {},
   "outputs": [
    {
     "name": "stdout",
     "output_type": "stream",
     "text": [
      "mean=50.049 stdv=4.994\n"
     ]
    }
   ],
   "source": [
    "# generate gaussian data \n",
    "from numpy.random import seed \n",
    "from numpy.random import randn \n",
    "from numpy import mean \n",
    "from numpy import std \n",
    "# seed the random number generator \n",
    "seed(1) \n",
    "# generate univariate observations \n",
    "data = 5 * randn(10000) + 50 \n",
    "# summarize \n",
    "print('mean=%.3f stdv=%.3f' % (mean(data), std(data)))\n"
   ]
  },
  {
   "cell_type": "code",
   "execution_count": 24,
   "id": "b0996f25-24c7-4207-b976-8e88ec9d8d64",
   "metadata": {},
   "outputs": [
    {
     "data": {
      "text/plain": [
       "<Axes: >"
      ]
     },
     "execution_count": 24,
     "metadata": {},
     "output_type": "execute_result"
    },
    {
     "data": {
      "image/png": "[encoded data removed]",
      "text/plain": [
       "<Figure size 640x480 with 1 Axes>"
      ]
     },
     "metadata": {},
     "output_type": "display_data"
    }
   ],
   "source": [
    "# Plot boxplot of data\n",
    "fig, ax = plt.subplots()\n",
    "sns.boxplot(data=data, ax=ax)"
   ]
  },
  {
   "cell_type": "markdown",
   "id": "8a34eea0-b5a0-4dfa-995e-a05e14c18772",
   "metadata": {},
   "source": [
    "#### Standard Deviation Method "
   ]
  },
  {
   "cell_type": "markdown",
   "id": "3005291e-3d9e-42c2-a185-fb63738a82ce",
   "metadata": {},
   "source": [
    "If we know that the distribution of values in the sample is Gaussian or Gaussian-like, we can use the standard deviation of the sample as a cut-off for identifying outliers. "
   ]
  },
  {
   "cell_type": "code",
   "execution_count": 25,
   "id": "0bbb802c-27bd-4eca-967b-b3df58f85fe7",
   "metadata": {},
   "outputs": [],
   "source": [
    "# If distribution Gaussian or Gaussian-like, we use the standard deviation of the sample as a cut-off for identifying outliers\n",
    "def identify_outliers_std_dev_method(data : np.ndarray):\n",
    "    \"\"\"\n",
    "    If distribution Gaussian or Gaussian-like, we use the standard deviation of the sample as a cut-off for identifying outliers\n",
    "    Args:\n",
    "        data (ndarray): Raw data\n",
    "    Returns:\n",
    "        - outliers (ndarray) : only identified outliers\n",
    "        - outliers_removed (ndarray) : data with outliers removed\n",
    "    \"\"\"\n",
    "\n",
    "    # calculate summary statistics \n",
    "    data_mean, data_std = mean(data), std(data) \n",
    "\n",
    "    # define outliers \n",
    "    cut_off = data_std * 3 \n",
    "    lower, upper = data_mean - cut_off, data_mean + cut_off \n",
    "\n",
    "    # identify outliers \n",
    "    outliers = [x for x in data if x < lower or x > upper] \n",
    "    print(f\"Identified outliers: {len(outliers)}\") \n",
    "\n",
    "    # remove outliers\n",
    "    outliers_removed = [x for x in data if x >= lower and x <= upper] \n",
    "    print(f\"Non-outlier observations: {len(outliers_removed)}\")\n",
    "\n",
    "    return outliers, outliers_removed"
   ]
  },
  {
   "cell_type": "markdown",
   "id": "fd179fb6-f0a5-4a4c-a19c-c2a386b28e1d",
   "metadata": {},
   "source": [
    "So far we have only talked about univariate data with a Gaussian distribution, e.g. a single variable. You can use the same approach if you have multivariate data, e.g. data with multiple variables, each with a different Gaussian distribution. You can imagine bounds in two dimensions that would define an ellipse if you have two variables. Observations that fall outside of the ellipse would be considered outliers. In three dimensions, this would be an ellipsoid, and so on into higher dimensions. Alternately, if you knew more about the domain, perhaps an outlier may be identified by exceeding the limits on one or a subset of the data dimensions."
   ]
  },
  {
   "cell_type": "code",
   "execution_count": 26,
   "id": "83542d41-07d8-4d3a-9089-fb78a3a8a5e2",
   "metadata": {},
   "outputs": [
    {
     "name": "stdout",
     "output_type": "stream",
     "text": [
      "Identified outliers: 29\n",
      "Non-outlier observations: 9971\n"
     ]
    }
   ],
   "source": [
    "# identify outliers with standard deviation \n",
    "from numpy.random import seed \n",
    "from numpy.random import randn \n",
    "from numpy import mean \n",
    "from numpy import std \n",
    "\n",
    "# seed the random number generator \n",
    "seed(1) \n",
    "\n",
    "# generate univariate observations \n",
    "data = 5 * randn(10000) + 50 \n",
    "\n",
    "outliers, outliers_removed = identify_outliers_std_dev_method(data)"
   ]
  },
  {
   "cell_type": "markdown",
   "id": "f7c98136-f3d7-431c-92a5-16abaa7b33a7",
   "metadata": {},
   "source": [
    "#### Interquartile Range Method "
   ]
  },
  {
   "cell_type": "code",
   "execution_count": 27,
   "id": "f9e1c238-ce20-4235-9c37-0ce5d8f246c6",
   "metadata": {},
   "outputs": [],
   "source": [
    "# identify outliers with interquartile range \n",
    "def identify_outliers_iqr_method(data : np.ndarray):\n",
    "    \"\"\"\n",
    "    A good statistic for summarizing a non-Gaussian distribution sample of data is the Interquartile Range, or IQR for short.\n",
    "    This function identifies outliers with interquartile range (iqr).\n",
    "    Args:\n",
    "        data (ndarray): Raw data\n",
    "    Returns:\n",
    "        - outliers (ndarray) : only identified outliers\n",
    "        - outliers_removed (ndarray) : data with outliers removed\n",
    "    \"\"\"\n",
    "    \n",
    "    # calculate interquartile range \n",
    "    q25, q75 = percentile(data, 25), percentile(data, 75) \n",
    "    iqr = q75 - q25 \n",
    "    print(f\"Percentiles: 25th={round(q25,3)}, 75th={round(q75,3)}, IQR={round(iqr,3)}\") \n",
    "    \n",
    "    # calculate the outlier cutoff \n",
    "    cut_off = iqr * 1.5 \n",
    "    lower, upper = q25 - cut_off, q75 + cut_off \n",
    "    \n",
    "    # identify outliers \n",
    "    outliers = [x for x in data if x < lower or x > upper] \n",
    "    print('Identified outliers: %d' % len(outliers)) \n",
    "    \n",
    "    # remove outliers \n",
    "    outliers_removed = [x for x in data if x >= lower and x <= upper] \n",
    "    print('Non-outlier observations: %d' % len(outliers_removed))\n",
    "    \n",
    "    return outliers, outliers_removed"
   ]
  },
  {
   "cell_type": "code",
   "execution_count": 28,
   "id": "9c1fc81e-1e97-49c2-9f74-a492c04b653d",
   "metadata": {},
   "outputs": [
    {
     "name": "stdout",
     "output_type": "stream",
     "text": [
      "Percentiles: 25th=46.685, 75th=53.359, IQR=6.674\n",
      "Identified outliers: 81\n",
      "Non-outlier observations: 9919\n"
     ]
    }
   ],
   "source": [
    "# identify outliers with interquartile range \n",
    "from numpy.random import seed \n",
    "from numpy.random import randn \n",
    "from numpy import percentile \n",
    "# seed the random number generator \n",
    "seed(1) \n",
    "# generate univariate observations \n",
    "data = 5 * randn(10000) + 50 \n",
    "\n",
    "outliers, outliers_removed = identify_outliers_iqr_method(data)"
   ]
  },
  {
   "cell_type": "markdown",
   "id": "b52a4fc5-b0a2-49e1-ace9-7c90e8e7d83a",
   "metadata": {},
   "source": [
    "#### Automatic Outlier Detection "
   ]
  },
  {
   "cell_type": "code",
   "execution_count": 29,
   "id": "3a2d54eb-6f2e-4a09-8b86-7adde1ab466f",
   "metadata": {},
   "outputs": [
    {
     "data": {
      "text/plain": [
       "'Shape of boston_housing : (506, 14)'"
      ]
     },
     "metadata": {},
     "output_type": "display_data"
    }
   ],
   "source": [
    "# Load Boston Housing Dataset \n",
    "boston_housing = \"https://raw.githubusercontent.com/jbrownlee/Datasets/master/housing.csv \"\n",
    "boston_housing=pd.read_csv(boston_housing,header=None)\n",
    "display(f\"Shape of boston_housing : {boston_housing.shape}\")"
   ]
  },
  {
   "cell_type": "code",
   "execution_count": 30,
   "id": "216478f6-1fe1-4cf5-82f1-dd01cbf2479d",
   "metadata": {},
   "outputs": [
    {
     "name": "stdout",
     "output_type": "stream",
     "text": [
      "MAE: 3.417\n"
     ]
    }
   ],
   "source": [
    "# evaluate model on the raw dataset \n",
    "from pandas import read_csv \n",
    "from sklearn.model_selection import train_test_split \n",
    "from sklearn.linear_model import LinearRegression \n",
    "from sklearn.metrics import mean_absolute_error \n",
    "\n",
    "# retrieve the array \n",
    "data = boston_housing.values \n",
    "\n",
    "# split into input and output elements \n",
    "X, y = data[:, :-1], data[:, -1] \n",
    "\n",
    "# split into train and test sets \n",
    "X_train, X_test, y_train, y_test = train_test_split(X, y, test_size=0.33, random_state=1)\n",
    "\n",
    "# fit the model \n",
    "model = LinearRegression() \n",
    "model.fit(X_train, y_train) \n",
    "\n",
    "# evaluate the model\n",
    "yhat = model.predict(X_test) \n",
    "\n",
    "# evaluate predictions \n",
    "mae = mean_absolute_error(y_test, yhat) \n",
    "print(f\"MAE: {round(mae,3)}\")"
   ]
  },
  {
   "cell_type": "markdown",
   "id": "df815670-852b-418c-b703-828a68ca931b",
   "metadata": {},
   "source": [
    "##### LocalOutlierFactor"
   ]
  },
  {
   "cell_type": "code",
   "execution_count": 31,
   "id": "c398e9a6-6a4a-40f7-93e7-28adb8984ebe",
   "metadata": {},
   "outputs": [
    {
     "name": "stdout",
     "output_type": "stream",
     "text": [
      "(339, 13) (339,)\n",
      "(305, 13) (305,)\n",
      "MAE: 3.356\n"
     ]
    }
   ],
   "source": [
    "# evaluate model on training dataset with outliers removed \n",
    "from pandas import read_csv \n",
    "from sklearn.model_selection import train_test_split \n",
    "from sklearn.linear_model import LinearRegression \n",
    "from sklearn.neighbors import LocalOutlierFactor \n",
    "from sklearn.metrics import mean_absolute_error \n",
    "\n",
    "# retrieve the array \n",
    "data = boston_housing.values \n",
    "\n",
    "# split into input and output elements\n",
    "X, y = data[:, :-1], data[:, -1] \n",
    "\n",
    "# split into train and test sets \n",
    "X_train, X_test, y_train, y_test = train_test_split(X, y, test_size=0.33, random_state=1) \n",
    "\n",
    "# summarize the shape of the training dataset \n",
    "print(X_train.shape, y_train.shape) \n",
    "\n",
    "# identify outliers in the training dataset \n",
    "lof = LocalOutlierFactor() \n",
    "yhat = lof.fit_predict(X_train) \n",
    "\n",
    "# select all rows that are not outliers \n",
    "mask = yhat != -1 \n",
    "X_train, y_train = X_train[mask, :], y_train[mask] \n",
    "\n",
    "# summarize the shape of the updated training dataset \n",
    "print(X_train.shape, y_train.shape) \n",
    "\n",
    "# fit the model \n",
    "model = LinearRegression() \n",
    "model.fit(X_train, y_train) \n",
    "\n",
    "# evaluate the model \n",
    "yhat = model.predict(X_test) \n",
    "\n",
    "# evaluate predictions \n",
    "mae = mean_absolute_error(y_test, yhat) \n",
    "print(f\"MAE: {round(mae,3)}\")"
   ]
  },
  {
   "cell_type": "markdown",
   "id": "0d67c79f-5bfc-454c-8658-c7c4436d51e7",
   "metadata": {},
   "source": [
    "##### IsolationForest "
   ]
  },
  {
   "cell_type": "code",
   "execution_count": 32,
   "id": "3571cbfb-e7f5-4ce4-826b-fa639e6fa60f",
   "metadata": {},
   "outputs": [
    {
     "name": "stdout",
     "output_type": "stream",
     "text": [
      "(339, 13) (339,)\n",
      "(294, 13) (294,)\n",
      "MAE: 3.218\n"
     ]
    }
   ],
   "source": [
    "# evaluate model on training dataset with outliers removed \n",
    "from pandas import read_csv \n",
    "from sklearn.model_selection import train_test_split \n",
    "from sklearn.linear_model import LinearRegression \n",
    "from sklearn.ensemble import IsolationForest\n",
    "from sklearn.metrics import mean_absolute_error \n",
    "\n",
    "# retrieve the array \n",
    "data = boston_housing.values \n",
    "\n",
    "# split into input and output elements\n",
    "X, y = data[:, :-1], data[:, -1] \n",
    "\n",
    "# split into train and test sets \n",
    "X_train, X_test, y_train, y_test = train_test_split(X, y, test_size=0.33, random_state=1) \n",
    "\n",
    "# summarize the shape of the training dataset \n",
    "print(X_train.shape, y_train.shape) \n",
    "\n",
    "# identify outliers in the training dataset \n",
    "lof = IsolationForest() \n",
    "yhat = lof.fit_predict(X_train) \n",
    "\n",
    "# select all rows that are not outliers \n",
    "mask = yhat != -1 \n",
    "X_train, y_train = X_train[mask, :], y_train[mask] \n",
    "\n",
    "# summarize the shape of the updated training dataset \n",
    "print(X_train.shape, y_train.shape) \n",
    "\n",
    "# fit the model \n",
    "model = LinearRegression() \n",
    "model.fit(X_train, y_train) \n",
    "\n",
    "# evaluate the model \n",
    "yhat = model.predict(X_test) \n",
    "\n",
    "# evaluate predictions \n",
    "mae = mean_absolute_error(y_test, yhat) \n",
    "print(f\"MAE: {round(mae,3)}\")"
   ]
  },
  {
   "cell_type": "code",
   "execution_count": null,
   "id": "6cc45c05-a60a-4d1f-9249-f731dfa40246",
   "metadata": {},
   "outputs": [],
   "source": []
  },
  {
   "cell_type": "code",
   "execution_count": null,
   "id": "ef41c103-884b-415c-a8aa-e4d1d48b7360",
   "metadata": {},
   "outputs": [],
   "source": []
  },
  {
   "cell_type": "code",
   "execution_count": null,
   "id": "d82b05b7-90db-4bd2-b279-49dcd0531563",
   "metadata": {},
   "outputs": [],
   "source": []
  },
  {
   "cell_type": "code",
   "execution_count": null,
   "id": "762b2982-9112-4632-b17e-5ca71178fe56",
   "metadata": {},
   "outputs": [],
   "source": []
  },
  {
   "cell_type": "code",
   "execution_count": null,
   "id": "6166ef7c-becd-4ca6-983f-e22fa6db0614",
   "metadata": {},
   "outputs": [],
   "source": []
  }
 ],
 "metadata": {
  "kernelspec": {
   "display_name": "Python 3 (ipykernel)",
   "language": "python",
   "name": "python3"
  },
  "language_info": {
   "codemirror_mode": {
    "name": "ipython",
    "version": 3
   },
   "file_extension": ".py",
   "mimetype": "text/x-python",
   "name": "python",
   "nbconvert_exporter": "python",
   "pygments_lexer": "ipython3",
   "version": "3.10.6"
  }
 },
 "nbformat": 4,
 "nbformat_minor": 5
}
