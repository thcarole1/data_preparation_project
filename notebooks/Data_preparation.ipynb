{
 "cells": [
  {
   "cell_type": "markdown",
   "id": "66c5afd3-7bad-48a4-97dd-c26654478608",
   "metadata": {},
   "source": [
    "# Data preparation"
   ]
  },
  {
   "cell_type": "code",
   "execution_count": 1,
   "id": "37f8e5bf-6852-40a9-9368-10a1c11bb6b7",
   "metadata": {},
   "outputs": [],
   "source": [
    "# Libraries\n",
    "import numpy as np\n",
    "import pandas as pd"
   ]
  },
  {
   "cell_type": "markdown",
   "id": "1c1e1e0a-4031-42da-bf67-dfaacab452d1",
   "metadata": {},
   "source": [
    "## Data cleaning"
   ]
  },
  {
   "cell_type": "markdown",
   "id": "a48f1fab-0668-457e-8af1-aa77241ba29f",
   "metadata": {},
   "source": [
    "### Basic data cleaning"
   ]
  },
  {
   "cell_type": "code",
   "execution_count": 2,
   "id": "52f073b7-3363-4f83-8fd9-54a221bba85d",
   "metadata": {},
   "outputs": [
    {
     "data": {
      "text/plain": [
       "'Shape of oil_spill_data : (937, 50)'"
      ]
     },
     "metadata": {},
     "output_type": "display_data"
    },
    {
     "data": {
      "text/plain": [
       "'Shape of iris_data : (150, 5)'"
      ]
     },
     "metadata": {},
     "output_type": "display_data"
    }
   ],
   "source": [
    "# Load datasets\n",
    "\n",
    "# Load Oil spill data\n",
    "path_oil_spill = \"https://raw.githubusercontent.com/jbrownlee/Datasets/master/oil-spill.csv\"\n",
    "oil_spill_data=pd.read_csv(path_oil_spill,header=None)\n",
    "display(f\"Shape of oil_spill_data : {oil_spill_data.shape}\")\n",
    "\n",
    "# Load Iris Flower dataset\n",
    "from sklearn.datasets import load_iris\n",
    "iris = load_iris()\n",
    "iris_data = pd.DataFrame(data=iris.data, columns=iris.feature_names)\n",
    "iris_data['target'] = iris.target\n",
    "display(f\"Shape of iris_data : {iris_data.shape}\")"
   ]
  },
  {
   "cell_type": "code",
   "execution_count": 3,
   "id": "b8aa01a3-ce64-4f06-a21f-184f172ad1ff",
   "metadata": {},
   "outputs": [],
   "source": [
    "# Copy of datasets\n",
    "oil_spill_data_copy = oil_spill_data.copy()\n",
    "iris_data_copy = iris_data.copy()"
   ]
  },
  {
   "cell_type": "markdown",
   "id": "f7e9b989-8262-41d6-ac6e-72b6262f7742",
   "metadata": {},
   "source": [
    "#### Identify Columns That Contain a Single Value"
   ]
  },
  {
   "cell_type": "code",
   "execution_count": 4,
   "id": "0125e699-8acd-497f-8d45-3c7550d1d517",
   "metadata": {},
   "outputs": [],
   "source": [
    "# Summurize the number of unique values in each column\n",
    "oil_spill_data.nunique();"
   ]
  },
  {
   "cell_type": "markdown",
   "id": "32e8de9c-389a-4c7a-9e41-791a2dd09767",
   "metadata": {},
   "source": [
    "#### Delete Columns That Contain a Single Value"
   ]
  },
  {
   "cell_type": "code",
   "execution_count": 5,
   "id": "bfb02183-8626-42f8-9b83-bdaa411c038c",
   "metadata": {},
   "outputs": [],
   "source": [
    "# Create a function to drop columns that have a single value\n",
    "def drop_single_value_columns(df : pd.DataFrame) -> pd.DataFrame:\n",
    "        \"\"\"\n",
    "    Drop columns with a single unique value \n",
    "    Args:\n",
    "        df (DataFrame): Raw data\n",
    "    Returns:\n",
    "        df (DataFrame) with no single value columns\n",
    "    \"\"\" \n",
    "        print(f\"Shape BEFORE dropping single value columns: {df.shape}\") \n",
    "        \n",
    "        # get number of unique values for each column \n",
    "        counts = df.nunique()\n",
    "        \n",
    "        # record columns to delete \n",
    "        to_del = [i for i,v in enumerate(counts) if v == 1]\n",
    "    \n",
    "        print(f\"Names of single value columns: {to_del}\") \n",
    "        \n",
    "        # drop useless columns \n",
    "        df.drop(to_del, axis=1, inplace=True) \n",
    "        \n",
    "        print(f\"Shape AFTER dropping single value columns: {df.shape}\") \n",
    "        return df"
   ]
  },
  {
   "cell_type": "code",
   "execution_count": 6,
   "id": "84c8f26f-5d45-494e-a627-0164d3ee8239",
   "metadata": {},
   "outputs": [
    {
     "name": "stdout",
     "output_type": "stream",
     "text": [
      "Shape BEFORE dropping single value columns: (937, 50)\n",
      "Names of single value columns: [22]\n",
      "Shape AFTER dropping single value columns: (937, 49)\n"
     ]
    }
   ],
   "source": [
    "oil_spill_data = drop_single_value_columns(oil_spill_data)"
   ]
  },
  {
   "cell_type": "markdown",
   "id": "e1e458c9-c680-4a6b-80f7-e01ef4c1b957",
   "metadata": {},
   "source": [
    "#### Consider Columns That Have Very Few Values"
   ]
  },
  {
   "cell_type": "markdown",
   "id": "98712724-1246-46e8-8d02-a3938db14a5c",
   "metadata": {},
   "source": [
    "This does not mean that these rows and columns should be deleted, but they require further attention. <br>\n",
    "For example: <br>\n",
    "•\tPerhaps the unique values can be encoded as ordinal values? <br>\n",
    "•\tPerhaps the unique values can be encoded as categorical values? <br>\n",
    "•\tPerhaps compare model skill with each variable removed from the dataset?\n"
   ]
  },
  {
   "cell_type": "code",
   "execution_count": 7,
   "id": "583ac94c-bf00-46f9-bc24-00bc29b9f627",
   "metadata": {},
   "outputs": [],
   "source": [
    "# Retrieve original data\n",
    "oil_spill_data = oil_spill_data_copy"
   ]
  },
  {
   "cell_type": "code",
   "execution_count": 8,
   "id": "bbc60885-5dab-413d-9db1-54a388b8d247",
   "metadata": {},
   "outputs": [],
   "source": [
    "# Create a function to get columns where number of unique values is less than X% of the rows of the entire considered dataset\n",
    "def get_columns_with_few_values_under_threshold(df : pd.DataFrame, threshold : float) -> list:\n",
    "    \"\"\"\n",
    "    Get columns where number of unique values is less than X% of the rows of the entire considered dataset\n",
    "    Args:\n",
    "        - df (DataFrame): Raw data\n",
    "        - threshold (float)\n",
    "    Returns:\n",
    "        df (DataFrame) with no columns whose number of unique values are below threshold (in regard to total number of rows of considered dataset)\n",
    "    \"\"\"    \n",
    "    # get number of unique values for each column \n",
    "    counts = df.nunique() \n",
    "    \n",
    "    # record columns to delete \n",
    "    cols_with_few_values = [i for i,v in enumerate(counts) if (float(v)/df.shape[0]*100) < threshold]\n",
    "\n",
    "    return cols_with_few_values"
   ]
  },
  {
   "cell_type": "code",
   "execution_count": 9,
   "id": "d5311ad7-9045-4b1b-a5bc-1518f1926699",
   "metadata": {},
   "outputs": [
    {
     "data": {
      "text/plain": [
       "[21, 22, 24, 25, 26, 32, 36, 38, 39, 45, 49]"
      ]
     },
     "execution_count": 9,
     "metadata": {},
     "output_type": "execute_result"
    }
   ],
   "source": [
    "get_columns_with_few_values_under_threshold(oil_spill_data, 1.0)"
   ]
  },
  {
   "cell_type": "code",
   "execution_count": 10,
   "id": "2c5e07e2-af6b-442e-88ed-c68da711d806",
   "metadata": {},
   "outputs": [],
   "source": [
    "# Create a function to drop columns where number of unique values is less than X% of the rows of the entire considered dataset\n",
    "def drop_columns_with_few_values_under_threshold(df : pd.DataFrame, threshold : float) -> pd.DataFrame:\n",
    "    \"\"\"\n",
    "    Drop columns where number of unique values is less than X% of the rows of the entire considered dataset\n",
    "    Args:\n",
    "        - df (DataFrame): Raw data\n",
    "        - threshold (float)\n",
    "    Returns:\n",
    "        df (DataFrame) with no columns whose number of unique values are below threshold (in regard to total number of rows of considered dataset)\n",
    "    \"\"\" \n",
    "    print(f\"Shape BEFORE dropping few value columns: {df.shape}\")\n",
    "    \n",
    "    # get number of unique values for each column \n",
    "    counts = df.nunique() \n",
    "    \n",
    "    # record columns to delete \n",
    "    to_del = [i for i,v in enumerate(counts) if (float(v)/df.shape[0]*100) < threshold]\n",
    "\n",
    "    print(f\"Names of columns with few values: {to_del}\") \n",
    "    \n",
    "    # drop useless columns \n",
    "    df.drop(to_del, axis=1, inplace=True) \n",
    "    \n",
    "    print(f\"Shape AFTER dropping single value columns: {df.shape}\") \n",
    "    return df"
   ]
  },
  {
   "cell_type": "code",
   "execution_count": 11,
   "id": "52eeb024-a749-46aa-b811-2b064dfc5825",
   "metadata": {},
   "outputs": [
    {
     "name": "stdout",
     "output_type": "stream",
     "text": [
      "Shape BEFORE dropping few value columns: (937, 50)\n",
      "Names of columns with few values: [21, 22, 24, 25, 26, 32, 36, 38, 39, 45, 49]\n",
      "Shape AFTER dropping single value columns: (937, 39)\n"
     ]
    }
   ],
   "source": [
    "oil_spill_data = drop_columns_with_few_values_under_threshold(oil_spill_data, 1.0)"
   ]
  },
  {
   "cell_type": "code",
   "execution_count": null,
   "id": "b558b7b8-d967-42a0-bedf-c6d2bbfb531a",
   "metadata": {},
   "outputs": [],
   "source": []
  },
  {
   "cell_type": "code",
   "execution_count": null,
   "id": "5f6e6aa7-e405-4028-828f-8c94633893e4",
   "metadata": {},
   "outputs": [],
   "source": []
  },
  {
   "cell_type": "code",
   "execution_count": null,
   "id": "00e7d9f0-e00d-4431-b472-e1239c53ade9",
   "metadata": {},
   "outputs": [],
   "source": []
  }
 ],
 "metadata": {
  "kernelspec": {
   "display_name": "Python 3 (ipykernel)",
   "language": "python",
   "name": "python3"
  },
  "language_info": {
   "codemirror_mode": {
    "name": "ipython",
    "version": 3
   },
   "file_extension": ".py",
   "mimetype": "text/x-python",
   "name": "python",
   "nbconvert_exporter": "python",
   "pygments_lexer": "ipython3",
   "version": "3.10.6"
  }
 },
 "nbformat": 4,
 "nbformat_minor": 5
}
