{
 "cells": [
  {
   "cell_type": "markdown",
   "id": "66c5afd3-7bad-48a4-97dd-c26654478608",
   "metadata": {},
   "source": [
    "# Data preparation"
   ]
  },
  {
   "cell_type": "code",
   "execution_count": 1,
   "id": "37f8e5bf-6852-40a9-9368-10a1c11bb6b7",
   "metadata": {},
   "outputs": [],
   "source": [
    "# Libraries\n",
    "import numpy as np\n",
    "import pandas as pd"
   ]
  },
  {
   "cell_type": "markdown",
   "id": "1c1e1e0a-4031-42da-bf67-dfaacab452d1",
   "metadata": {},
   "source": [
    "## Data cleaning"
   ]
  },
  {
   "cell_type": "markdown",
   "id": "a48f1fab-0668-457e-8af1-aa77241ba29f",
   "metadata": {},
   "source": [
    "### Basic data cleaning"
   ]
  },
  {
   "cell_type": "code",
   "execution_count": 2,
   "id": "52f073b7-3363-4f83-8fd9-54a221bba85d",
   "metadata": {},
   "outputs": [
    {
     "data": {
      "text/plain": [
       "'Shape of oil_spill_data : (937, 50)'"
      ]
     },
     "metadata": {},
     "output_type": "display_data"
    },
    {
     "data": {
      "text/plain": [
       "'Shape of iris_data : (150, 5)'"
      ]
     },
     "metadata": {},
     "output_type": "display_data"
    }
   ],
   "source": [
    "# Load datasets\n",
    "\n",
    "# Load Oil spill data\n",
    "path_oil_spill = \"https://raw.githubusercontent.com/jbrownlee/Datasets/master/oil-spill.csv\"\n",
    "oil_spill_data=pd.read_csv(path_oil_spill,header=None)\n",
    "display(f\"Shape of oil_spill_data : {oil_spill_data.shape}\")\n",
    "\n",
    "# Load Iris Flower dataset\n",
    "from sklearn.datasets import load_iris\n",
    "iris = load_iris()\n",
    "iris_data = pd.DataFrame(data=iris.data, columns=iris.feature_names)\n",
    "iris_data['target'] = iris.target\n",
    "display(f\"Shape of iris_data : {iris_data.shape}\")"
   ]
  },
  {
   "cell_type": "markdown",
   "id": "f7e9b989-8262-41d6-ac6e-72b6262f7742",
   "metadata": {},
   "source": [
    "#### Identify Columns That Contain a Single Value"
   ]
  },
  {
   "cell_type": "code",
   "execution_count": 3,
   "id": "0125e699-8acd-497f-8d45-3c7550d1d517",
   "metadata": {},
   "outputs": [],
   "source": [
    "# Summurize the number of unique values in each column\n",
    "oil_spill_data.nunique();"
   ]
  },
  {
   "cell_type": "markdown",
   "id": "32e8de9c-389a-4c7a-9e41-791a2dd09767",
   "metadata": {},
   "source": [
    "#### Delete Columns That Contain a Single Value"
   ]
  },
  {
   "cell_type": "code",
   "execution_count": 5,
   "id": "bfb02183-8626-42f8-9b83-bdaa411c038c",
   "metadata": {},
   "outputs": [],
   "source": [
    "# Create a function to drop columns that have a single value\n",
    "def drop_single_value_columns(df : pd.DataFrame) -> pd.DataFrame:\n",
    "        \"\"\"\n",
    "    Drop columns with a single unique value \n",
    "    Args:\n",
    "        df (DataFrame): Raw data\n",
    "    Returns:\n",
    "        df (DataFrame) with no single value columns\n",
    "    \"\"\" \n",
    "        print(f\"Shape BEFORE dropping single value columns: {df.shape}\") \n",
    "        \n",
    "        # get number of unique values for each column \n",
    "        counts = df.nunique()\n",
    "        \n",
    "        # record columns to delete \n",
    "        to_del = [i for i,v in enumerate(counts) if v == 1]\n",
    "    \n",
    "        print(f\"Names of single value columns: {to_del}\") \n",
    "        \n",
    "        # drop useless columns \n",
    "        df.drop(to_del, axis=1, inplace=True) \n",
    "        \n",
    "        print(f\"Shape AFTER dropping single value columns: {df.shape}\") "
   ]
  },
  {
   "cell_type": "code",
   "execution_count": 8,
   "id": "84c8f26f-5d45-494e-a627-0164d3ee8239",
   "metadata": {},
   "outputs": [
    {
     "name": "stdout",
     "output_type": "stream",
     "text": [
      "Shape BEFORE dropping single value columns: (937, 49)\n",
      "Names of single value columns: []\n",
      "Shape AFTER dropping single value columns: (937, 49)\n"
     ]
    }
   ],
   "source": [
    "drop_single_value_columns(oil_spill_data)"
   ]
  }
 ],
 "metadata": {
  "kernelspec": {
   "display_name": "Python 3 (ipykernel)",
   "language": "python",
   "name": "python3"
  },
  "language_info": {
   "codemirror_mode": {
    "name": "ipython",
    "version": 3
   },
   "file_extension": ".py",
   "mimetype": "text/x-python",
   "name": "python",
   "nbconvert_exporter": "python",
   "pygments_lexer": "ipython3",
   "version": "3.10.6"
  }
 },
 "nbformat": 4,
 "nbformat_minor": 5
}
