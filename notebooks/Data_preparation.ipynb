{
 "cells": [
  {
   "cell_type": "markdown",
   "id": "66c5afd3-7bad-48a4-97dd-c26654478608",
   "metadata": {},
   "source": [
    "# Data preparation"
   ]
  },
  {
   "cell_type": "code",
   "execution_count": 1,
   "id": "37f8e5bf-6852-40a9-9368-10a1c11bb6b7",
   "metadata": {},
   "outputs": [],
   "source": [
    "# Libraries\n",
    "\n",
    "## Basic libraries\n",
    "import numpy as np\n",
    "import pandas as pd\n",
    "import seaborn as sns\n",
    "\n",
    "## Plotting\n",
    "import matplotlib.pyplot as plt\n",
    "\n",
    "# Basic cleaning\n",
    "## Variance\n",
    "from sklearn.feature_selection import VarianceThreshold\n"
   ]
  },
  {
   "cell_type": "markdown",
   "id": "1c1e1e0a-4031-42da-bf67-dfaacab452d1",
   "metadata": {},
   "source": [
    "## Data cleaning"
   ]
  },
  {
   "cell_type": "markdown",
   "id": "a48f1fab-0668-457e-8af1-aa77241ba29f",
   "metadata": {},
   "source": [
    "### Basic data cleaning"
   ]
  },
  {
   "cell_type": "code",
   "execution_count": 2,
   "id": "52f073b7-3363-4f83-8fd9-54a221bba85d",
   "metadata": {},
   "outputs": [
    {
     "data": {
      "text/plain": [
       "'Shape of oil_spill_data : (937, 50)'"
      ]
     },
     "metadata": {},
     "output_type": "display_data"
    },
    {
     "data": {
      "text/plain": [
       "'Shape of iris_data : (150, 5)'"
      ]
     },
     "metadata": {},
     "output_type": "display_data"
    }
   ],
   "source": [
    "# Load datasets\n",
    "\n",
    "# Load Oil spill data\n",
    "path_oil_spill = \"https://raw.githubusercontent.com/jbrownlee/Datasets/master/oil-spill.csv\"\n",
    "oil_spill_data=pd.read_csv(path_oil_spill,header=None)\n",
    "display(f\"Shape of oil_spill_data : {oil_spill_data.shape}\")\n",
    "\n",
    "# Load Iris Flower dataset\n",
    "from sklearn.datasets import load_iris\n",
    "iris = load_iris()\n",
    "iris_data = pd.DataFrame(data=iris.data, columns=iris.feature_names)\n",
    "iris_data['target'] = iris.target\n",
    "display(f\"Shape of iris_data : {iris_data.shape}\")"
   ]
  },
  {
   "cell_type": "code",
   "execution_count": 3,
   "id": "b8aa01a3-ce64-4f06-a21f-184f172ad1ff",
   "metadata": {},
   "outputs": [],
   "source": [
    "# Copy of datasets\n",
    "oil_spill_data_copy = oil_spill_data.copy()\n",
    "iris_data_copy = iris_data.copy()"
   ]
  },
  {
   "cell_type": "markdown",
   "id": "f7e9b989-8262-41d6-ac6e-72b6262f7742",
   "metadata": {},
   "source": [
    "#### Identify Columns That Contain a Single Value"
   ]
  },
  {
   "cell_type": "code",
   "execution_count": 4,
   "id": "0125e699-8acd-497f-8d45-3c7550d1d517",
   "metadata": {},
   "outputs": [],
   "source": [
    "# Summurize the number of unique values in each column\n",
    "oil_spill_data.nunique();"
   ]
  },
  {
   "cell_type": "markdown",
   "id": "32e8de9c-389a-4c7a-9e41-791a2dd09767",
   "metadata": {},
   "source": [
    "#### Delete Columns That Contain a Single Value"
   ]
  },
  {
   "cell_type": "code",
   "execution_count": 5,
   "id": "bfb02183-8626-42f8-9b83-bdaa411c038c",
   "metadata": {},
   "outputs": [],
   "source": [
    "# Create a function to drop columns that have a single value\n",
    "def drop_single_value_columns(df : pd.DataFrame) -> pd.DataFrame:\n",
    "        \"\"\"\n",
    "    Drop columns with a single unique value \n",
    "    Args:\n",
    "        df (DataFrame): Raw data\n",
    "    Returns:\n",
    "        df (DataFrame) with no single value columns\n",
    "    \"\"\" \n",
    "        print(f\"Shape BEFORE dropping single value columns: {df.shape}\") \n",
    "        \n",
    "        # get number of unique values for each column \n",
    "        counts = df.nunique()\n",
    "        \n",
    "        # record columns to delete (i.e columns that only contain a unique value)\n",
    "        to_del = [i for i,v in enumerate(counts) if v == 1]\n",
    "    \n",
    "        print(f\"Names of single value columns: {to_del}\") \n",
    "        \n",
    "        # drop useless columns \n",
    "        df.drop(to_del, axis=1, inplace=True) \n",
    "        \n",
    "        print(f\"Shape AFTER dropping single value columns: {df.shape}\") \n",
    "        return df"
   ]
  },
  {
   "cell_type": "code",
   "execution_count": 6,
   "id": "84c8f26f-5d45-494e-a627-0164d3ee8239",
   "metadata": {},
   "outputs": [
    {
     "name": "stdout",
     "output_type": "stream",
     "text": [
      "Shape BEFORE dropping single value columns: (937, 50)\n",
      "Names of single value columns: [22]\n",
      "Shape AFTER dropping single value columns: (937, 49)\n"
     ]
    }
   ],
   "source": [
    "oil_spill_data = drop_single_value_columns(oil_spill_data)"
   ]
  },
  {
   "cell_type": "markdown",
   "id": "e1e458c9-c680-4a6b-80f7-e01ef4c1b957",
   "metadata": {},
   "source": [
    "#### Consider Columns That Have Very Few Values"
   ]
  },
  {
   "cell_type": "markdown",
   "id": "98712724-1246-46e8-8d02-a3938db14a5c",
   "metadata": {},
   "source": [
    "This does not mean that these rows and columns should be deleted, but they require further attention. <br>\n",
    "For example: <br>\n",
    "•\tPerhaps the unique values can be encoded as ordinal values? <br>\n",
    "•\tPerhaps the unique values can be encoded as categorical values? <br>\n",
    "•\tPerhaps compare model skill with each variable removed from the dataset?\n"
   ]
  },
  {
   "cell_type": "code",
   "execution_count": 7,
   "id": "6c8df85d-1727-41e4-9079-da0d90498d0d",
   "metadata": {},
   "outputs": [],
   "source": [
    "# Retrieve original data\n",
    "oil_spill_data = oil_spill_data_copy"
   ]
  },
  {
   "cell_type": "code",
   "execution_count": 8,
   "id": "a685b1f0-9669-4c1b-a979-f7bedc515fab",
   "metadata": {},
   "outputs": [],
   "source": [
    "# Create a function that print index, number of unique values and percentage of unique values per column in regard to total number of rows per column\n",
    "def show_unique_values_percentage(df : pd.DataFrame):\n",
    "    \"\"\"\n",
    "    Print index, number of unique values and percentage of unique values per column in regard to total number of rows per column\n",
    "    Args:\n",
    "        - df (DataFrame): Raw data\n",
    "    \"\"\"  \n",
    "    for i in range(df.shape[1]):\n",
    "        num = df.nunique().values[i]\n",
    "        percentage = float(num) / df.shape[0] * 100\n",
    "        print(f\"{i}, {num}, {round(percentage,1)}%\")"
   ]
  },
  {
   "cell_type": "code",
   "execution_count": 9,
   "id": "5b481ad6-069e-444e-8cf6-0b7c82c930a3",
   "metadata": {
    "scrolled": true
   },
   "outputs": [
    {
     "name": "stdout",
     "output_type": "stream",
     "text": [
      "0, 238, 25.4%\n",
      "1, 297, 31.7%\n",
      "2, 927, 98.9%\n",
      "3, 933, 99.6%\n",
      "4, 179, 19.1%\n",
      "5, 375, 40.0%\n",
      "6, 820, 87.5%\n",
      "7, 618, 66.0%\n",
      "8, 561, 59.9%\n",
      "9, 57, 6.1%\n",
      "10, 577, 61.6%\n",
      "11, 59, 6.3%\n",
      "12, 73, 7.8%\n",
      "13, 107, 11.4%\n",
      "14, 53, 5.7%\n",
      "15, 91, 9.7%\n",
      "16, 893, 95.3%\n",
      "17, 810, 86.4%\n",
      "18, 170, 18.1%\n",
      "19, 53, 5.7%\n",
      "20, 68, 7.3%\n",
      "21, 9, 1.0%\n",
      "22, 1, 0.1%\n",
      "23, 92, 9.8%\n",
      "24, 9, 1.0%\n",
      "25, 8, 0.9%\n",
      "26, 9, 1.0%\n",
      "27, 308, 32.9%\n",
      "28, 447, 47.7%\n",
      "29, 392, 41.8%\n",
      "30, 107, 11.4%\n",
      "31, 42, 4.5%\n",
      "32, 4, 0.4%\n",
      "33, 45, 4.8%\n",
      "34, 141, 15.0%\n",
      "35, 110, 11.7%\n",
      "36, 3, 0.3%\n",
      "37, 758, 80.9%\n",
      "38, 9, 1.0%\n",
      "39, 9, 1.0%\n",
      "40, 388, 41.4%\n",
      "41, 220, 23.5%\n",
      "42, 644, 68.7%\n",
      "43, 649, 69.3%\n",
      "44, 499, 53.3%\n",
      "45, 2, 0.2%\n",
      "46, 937, 100.0%\n",
      "47, 169, 18.0%\n",
      "48, 286, 30.5%\n",
      "49, 2, 0.2%\n"
     ]
    }
   ],
   "source": [
    "show_unique_values_percentage(oil_spill_data)"
   ]
  },
  {
   "cell_type": "code",
   "execution_count": 10,
   "id": "d2d9649f-932d-4ae5-9733-95d4d4f90693",
   "metadata": {},
   "outputs": [],
   "source": [
    "# Create a function that print index, number of unique values and percentage of unique values per column in regard to total number of rows per column\n",
    "def show_unique_values_percentage_below_threshold(df : pd.DataFrame,threshold : float):\n",
    "    \"\"\"\n",
    "    Print index, number of unique values (below a threshold) and percentage of unique values per column in regard to total number of rows per column\n",
    "    Args:\n",
    "        - df (DataFrame): Raw data\n",
    "        - threshold (float) : percentage (%)\n",
    "    \"\"\"  \n",
    "    for i in range(df.shape[1]):\n",
    "        num = df.nunique().values[i]\n",
    "        percentage = float(num) / df.shape[0] * 100\n",
    "        if percentage < threshold:\n",
    "            print(f\"{i}, {num}, {round(percentage,1)}%\")"
   ]
  },
  {
   "cell_type": "code",
   "execution_count": 11,
   "id": "ab28cccb-cf5a-41a4-a4fa-1974bda91d6f",
   "metadata": {},
   "outputs": [
    {
     "name": "stdout",
     "output_type": "stream",
     "text": [
      "21, 9, 1.0%\n",
      "22, 1, 0.1%\n",
      "24, 9, 1.0%\n",
      "25, 8, 0.9%\n",
      "26, 9, 1.0%\n",
      "32, 4, 0.4%\n",
      "36, 3, 0.3%\n",
      "38, 9, 1.0%\n",
      "39, 9, 1.0%\n",
      "45, 2, 0.2%\n",
      "49, 2, 0.2%\n"
     ]
    }
   ],
   "source": [
    "show_unique_values_percentage_below_threshold(oil_spill_data, 1.0)"
   ]
  },
  {
   "cell_type": "code",
   "execution_count": 12,
   "id": "bbc60885-5dab-413d-9db1-54a388b8d247",
   "metadata": {},
   "outputs": [],
   "source": [
    "# Create a function to get columns where number of unique values is less than X% of the rows of the entire considered dataset\n",
    "def get_columns_with_few_values_under_threshold(df : pd.DataFrame, threshold : float) -> list:\n",
    "    \"\"\"\n",
    "    Get columns where number of unique values is less than X% of the rows of the entire considered dataset\n",
    "    Args:\n",
    "        - df (DataFrame): Raw data\n",
    "        - threshold (float) : percentage (%)\n",
    "    Returns:\n",
    "        df (DataFrame) with no columns whose number of unique values are below threshold (in regard to total number of rows of considered dataset)\n",
    "    \"\"\"    \n",
    "    # get number of unique values for each column \n",
    "    counts = df.nunique() \n",
    "    \n",
    "    # record columns to delete \n",
    "    cols_with_few_values = [i for i,v in enumerate(counts) if (float(v)/df.shape[0]*100) < threshold]\n",
    "\n",
    "    return cols_with_few_values"
   ]
  },
  {
   "cell_type": "code",
   "execution_count": 13,
   "id": "d5311ad7-9045-4b1b-a5bc-1518f1926699",
   "metadata": {},
   "outputs": [
    {
     "data": {
      "text/plain": [
       "[21, 22, 24, 25, 26, 32, 36, 38, 39, 45, 49]"
      ]
     },
     "execution_count": 13,
     "metadata": {},
     "output_type": "execute_result"
    }
   ],
   "source": [
    "get_columns_with_few_values_under_threshold(oil_spill_data, 1.0)"
   ]
  },
  {
   "cell_type": "code",
   "execution_count": 14,
   "id": "2c5e07e2-af6b-442e-88ed-c68da711d806",
   "metadata": {},
   "outputs": [],
   "source": [
    "# Create a function to drop columns where number of unique values is less than X% of the rows of the entire considered dataset\n",
    "def drop_columns_with_few_values_under_threshold(df : pd.DataFrame, threshold : float) -> pd.DataFrame:\n",
    "    \"\"\"\n",
    "    Drop columns where number of unique values is less than X% of the rows of the entire considered dataset\n",
    "    Args:\n",
    "        - df (DataFrame): Raw data\n",
    "        - threshold (float) : percentage (%)\n",
    "    Returns:\n",
    "        df (DataFrame) with no columns whose number of unique values are below threshold (in regard to total number of rows of considered dataset)\n",
    "    \"\"\" \n",
    "    print(f\"Shape BEFORE dropping few value columns: {df.shape}\")\n",
    "    \n",
    "    # get number of unique values for each column \n",
    "    counts = df.nunique() \n",
    "    \n",
    "    # record columns to delete \n",
    "    to_del = [i for i,v in enumerate(counts) if (float(v)/df.shape[0]*100) < threshold]\n",
    "\n",
    "    print(f\"Names of columns with few values: {to_del}\") \n",
    "    \n",
    "    # drop useless columns \n",
    "    df.drop(to_del, axis=1, inplace=True) \n",
    "    \n",
    "    print(f\"Shape AFTER dropping columns with few values: {df.shape}\") \n",
    "    return df"
   ]
  },
  {
   "cell_type": "code",
   "execution_count": 15,
   "id": "52eeb024-a749-46aa-b811-2b064dfc5825",
   "metadata": {},
   "outputs": [
    {
     "name": "stdout",
     "output_type": "stream",
     "text": [
      "Shape BEFORE dropping few value columns: (937, 50)\n",
      "Names of columns with few values: [21, 22, 24, 25, 26, 32, 36, 38, 39, 45, 49]\n",
      "Shape AFTER dropping columns with few values: (937, 39)\n"
     ]
    }
   ],
   "source": [
    "oil_spill_data = drop_columns_with_few_values_under_threshold(oil_spill_data, 1.0)"
   ]
  },
  {
   "cell_type": "markdown",
   "id": "090ce8ba-aebc-4bdd-98ce-8c4113b14be9",
   "metadata": {},
   "source": [
    "#### Remove columns that have a low variance"
   ]
  },
  {
   "cell_type": "code",
   "execution_count": 16,
   "id": "c4d4475e-c469-4252-a39f-3ed231f77e3e",
   "metadata": {},
   "outputs": [],
   "source": [
    "# explore the effect of the variance thresholds on the number of selected features from numpy import arange \n",
    "def explore_variance_threshold_effects(df : pd.DataFrame, range : np.arange):\n",
    "    \"\"\"\n",
    "    Explore the effect of the variance thresholds on the number of selected features from numpy import arange \n",
    "    Args:\n",
    "        - df (DataFrame): Raw data\n",
    "        - range (np.arange) : variance range to check\n",
    "    Returns:\n",
    "        - Print number of features whose variance is over the considered threshold\n",
    "        - Plot the number of features whose variance is over the considered threshold\n",
    "    \"\"\" \n",
    "    \n",
    "    # apply transform with each threshold \n",
    "    results = list() \n",
    "\n",
    "    for t in range: \n",
    "        # define the transform \n",
    "        transform = VarianceThreshold(threshold=t) \n",
    "        \n",
    "        # transform the input data \n",
    "        df_sel = transform.fit_transform(df) \n",
    "        \n",
    "        # determine the number of input features \n",
    "        n_features = df_sel.shape[1] \n",
    "        \n",
    "        print(f\">Threshold={round(t,2)}, Features={n_features}\")\n",
    "        \n",
    "        # store the result \n",
    "        results.append(n_features) \n",
    "        \n",
    "    # plot the threshold vs the number of selected features \n",
    "    plt.plot(range, results) \n",
    "    plt.show()"
   ]
  },
  {
   "cell_type": "code",
   "execution_count": 17,
   "id": "9cb3c3bd-8e47-4b1e-8229-da5fd4a3daf3",
   "metadata": {},
   "outputs": [
    {
     "name": "stdout",
     "output_type": "stream",
     "text": [
      "(937, 38) (937,)\n",
      ">Threshold=0.0, Features=38\n",
      ">Threshold=0.05, Features=29\n",
      ">Threshold=0.1, Features=28\n",
      ">Threshold=0.15, Features=28\n",
      ">Threshold=0.2, Features=28\n",
      ">Threshold=0.25, Features=28\n",
      ">Threshold=0.3, Features=28\n",
      ">Threshold=0.35, Features=28\n",
      ">Threshold=0.4, Features=28\n",
      ">Threshold=0.45, Features=26\n",
      ">Threshold=0.5, Features=25\n"
     ]
    },
    {
     "data": {
      "image/png": "[encoded data removed]",
      "text/plain": [
       "<Figure size 640x480 with 1 Axes>"
      ]
     },
     "metadata": {},
     "output_type": "display_data"
    }
   ],
   "source": [
    "# Retrieve original data\n",
    "oil_spill_data = oil_spill_data_copy\n",
    "\n",
    "# split data into inputs and outputs \n",
    "data = oil_spill_data.values \n",
    "X = data[:, :-1] \n",
    "y = data[:, -1] \n",
    "print(X.shape, y.shape) \n",
    "\n",
    "# define variance thresholds to check \n",
    "thresholds = np.arange(0.0, 0.55, 0.05) \n",
    "\n",
    "explore_variance_threshold_effects(X, thresholds)"
   ]
  },
  {
   "cell_type": "code",
   "execution_count": 18,
   "id": "00e7d9f0-e00d-4431-b472-e1239c53ade9",
   "metadata": {},
   "outputs": [
    {
     "name": "stdout",
     "output_type": "stream",
     "text": [
      "(937, 38)\n",
      "(937, 28)\n"
     ]
    }
   ],
   "source": [
    "# Remove features whose variance is lower than threshold\n",
    "threshold = 0.4\n",
    "\n",
    "# Retrieve original data\n",
    "oil_spill_data = oil_spill_data_copy\n",
    "\n",
    "# split data into inputs and outputs \n",
    "data = oil_spill_data.values \n",
    "X = data[:, :-1] \n",
    "y = data[:, -1] \n",
    "print(X.shape) \n",
    "\n",
    "# define the transform \n",
    "transform = VarianceThreshold(threshold=threshold) \n",
    "\n",
    "# transform the input data \n",
    "X_sel = transform.fit_transform(X) \n",
    "\n",
    "print(X_sel.shape) "
   ]
  },
  {
   "cell_type": "markdown",
   "id": "8b700851-aa74-4fde-b513-1d722115ac8b",
   "metadata": {},
   "source": [
    "#### Identify rows that contain duplicate data"
   ]
  },
  {
   "cell_type": "code",
   "execution_count": 19,
   "id": "a2e3e05b-1e5c-45fe-9916-22a88fee8807",
   "metadata": {},
   "outputs": [],
   "source": [
    "# Retrieve original data\n",
    "iris_data = iris_data_copy"
   ]
  },
  {
   "cell_type": "code",
   "execution_count": 20,
   "id": "f2ef4987-6e48-4a0d-836f-3ab00ad04b96",
   "metadata": {},
   "outputs": [
    {
     "name": "stdout",
     "output_type": "stream",
     "text": [
      "True\n",
      "     sepal length (cm)  sepal width (cm)  petal length (cm)  petal width (cm)  \\\n",
      "142                5.8               2.7                5.1               1.9   \n",
      "\n",
      "     target  \n",
      "142       2  \n"
     ]
    }
   ],
   "source": [
    "# calculate duplicates \n",
    "dups = iris_data.duplicated() \n",
    "\n",
    "# report if there are any duplicates \n",
    "print(dups.any()) \n",
    "\n",
    "# list all duplicate rows \n",
    "print(iris_data[dups])"
   ]
  },
  {
   "cell_type": "markdown",
   "id": "6ac0d279-1093-4e1c-9a1e-da001eb40c1b",
   "metadata": {},
   "source": [
    "#### Delete rows thtat contain duplicate data"
   ]
  },
  {
   "cell_type": "code",
   "execution_count": 21,
   "id": "749d3212-b6ba-4c59-851b-69c4e9eea65a",
   "metadata": {},
   "outputs": [],
   "source": [
    "def check_duplicates(df):\n",
    "    \"\"\"\n",
    "    Counts duplicated rows. If any, function drops duplicated rows.\n",
    "    Args:\n",
    "        df (DataFrame): Raw data\n",
    "    Returns:\n",
    "        - df (Dataframe) without duplicated rows, a string otherwise.\n",
    "    \"\"\"\n",
    "\n",
    "    # Check number of rows before removing duplicates\n",
    "    print(f\"Number of rows : {len(df)}\")\n",
    "\n",
    "    # Compute the number of duplicated rows\n",
    "    num_dups = df.duplicated().sum()\n",
    "    \n",
    "    print(f\"Number of duplicated rows : {num_dups}\")\n",
    "\n",
    "    if df.duplicated().any():\n",
    "        # Remove duplicates\n",
    "        df_no_duplicates = df.drop_duplicates()\n",
    "        print(f\"{num_dups} duplicated row(s) removed\")\n",
    "        return df_no_duplicates\n",
    "    else:\n",
    "        return \"No duplicated rows found !\"    "
   ]
  },
  {
   "cell_type": "code",
   "execution_count": 22,
   "id": "fe22e7fa-8cd6-4220-ae49-5614f3571375",
   "metadata": {},
   "outputs": [
    {
     "name": "stdout",
     "output_type": "stream",
     "text": [
      "Number of rows : 150\n",
      "Number of duplicated rows : 1\n",
      "1 duplicated row(s) removed\n"
     ]
    }
   ],
   "source": [
    "iris_data_no_dups = check_duplicates(iris_data)"
   ]
  },
  {
   "cell_type": "markdown",
   "id": "f1f7c6ee-09eb-4a60-9657-f57463cca397",
   "metadata": {},
   "source": [
    "### Outlier Identification and Removal"
   ]
  },
  {
   "cell_type": "code",
   "execution_count": 23,
   "id": "045b4a43-6f1a-42e5-acbe-095139d4155c",
   "metadata": {},
   "outputs": [
    {
     "name": "stdout",
     "output_type": "stream",
     "text": [
      "mean=50.049 stdv=4.994\n"
     ]
    }
   ],
   "source": [
    "# generate gaussian data \n",
    "from numpy.random import seed \n",
    "from numpy.random import randn \n",
    "from numpy import mean \n",
    "from numpy import std \n",
    "# seed the random number generator \n",
    "seed(1) \n",
    "# generate univariate observations \n",
    "data = 5 * randn(10000) + 50 \n",
    "# summarize \n",
    "print('mean=%.3f stdv=%.3f' % (mean(data), std(data)))\n"
   ]
  },
  {
   "cell_type": "code",
   "execution_count": 24,
   "id": "b0996f25-24c7-4207-b976-8e88ec9d8d64",
   "metadata": {},
   "outputs": [
    {
     "data": {
      "text/plain": [
       "<Axes: >"
      ]
     },
     "execution_count": 24,
     "metadata": {},
     "output_type": "execute_result"
    },
    {
     "data": {
      "image/png": "[encoded data removed]",
      "text/plain": [
       "<Figure size 640x480 with 1 Axes>"
      ]
     },
     "metadata": {},
     "output_type": "display_data"
    }
   ],
   "source": [
    "# Plot boxplot of data\n",
    "fig, ax = plt.subplots()\n",
    "sns.boxplot(data=data, ax=ax)"
   ]
  },
  {
   "cell_type": "markdown",
   "id": "8a34eea0-b5a0-4dfa-995e-a05e14c18772",
   "metadata": {},
   "source": [
    "#### Standard Deviation Method "
   ]
  },
  {
   "cell_type": "markdown",
   "id": "3005291e-3d9e-42c2-a185-fb63738a82ce",
   "metadata": {},
   "source": [
    "If we know that the distribution of values in the sample is Gaussian or Gaussian-like, we can use the standard deviation of the sample as a cut-off for identifying outliers. "
   ]
  },
  {
   "cell_type": "code",
   "execution_count": 25,
   "id": "0bbb802c-27bd-4eca-967b-b3df58f85fe7",
   "metadata": {},
   "outputs": [],
   "source": [
    "# If distribution Gaussian or Gaussian-like, we use the standard deviation of the sample as a cut-off for identifying outliers\n",
    "def identify_outliers_std_dev_method(data : np.ndarray):\n",
    "    \"\"\"\n",
    "    If distribution Gaussian or Gaussian-like, we use the standard deviation of the sample as a cut-off for identifying outliers\n",
    "    Args:\n",
    "        data (ndarray): Raw data\n",
    "    Returns:\n",
    "        - outliers (ndarray) : only identified outliers\n",
    "        - outliers_removed (ndarray) : data with outliers removed\n",
    "    \"\"\"\n",
    "\n",
    "    # calculate summary statistics \n",
    "    data_mean, data_std = mean(data), std(data) \n",
    "\n",
    "    # define outliers \n",
    "    cut_off = data_std * 3 \n",
    "    lower, upper = data_mean - cut_off, data_mean + cut_off \n",
    "\n",
    "    # identify outliers \n",
    "    outliers = [x for x in data if x < lower or x > upper] \n",
    "    print(f\"Identified outliers: {len(outliers)}\") \n",
    "\n",
    "    # remove outliers\n",
    "    outliers_removed = [x for x in data if x >= lower and x <= upper] \n",
    "    print(f\"Non-outlier observations: {len(outliers_removed)}\")\n",
    "\n",
    "    return outliers, outliers_removed"
   ]
  },
  {
   "cell_type": "markdown",
   "id": "fd179fb6-f0a5-4a4c-a19c-c2a386b28e1d",
   "metadata": {},
   "source": [
    "So far we have only talked about univariate data with a Gaussian distribution, e.g. a single variable. You can use the same approach if you have multivariate data, e.g. data with multiple variables, each with a different Gaussian distribution. You can imagine bounds in two dimensions that would define an ellipse if you have two variables. Observations that fall outside of the ellipse would be considered outliers. In three dimensions, this would be an ellipsoid, and so on into higher dimensions. Alternately, if you knew more about the domain, perhaps an outlier may be identified by exceeding the limits on one or a subset of the data dimensions."
   ]
  },
  {
   "cell_type": "code",
   "execution_count": 26,
   "id": "83542d41-07d8-4d3a-9089-fb78a3a8a5e2",
   "metadata": {},
   "outputs": [
    {
     "name": "stdout",
     "output_type": "stream",
     "text": [
      "Identified outliers: 29\n",
      "Non-outlier observations: 9971\n"
     ]
    }
   ],
   "source": [
    "# identify outliers with standard deviation \n",
    "from numpy.random import seed \n",
    "from numpy.random import randn \n",
    "from numpy import mean \n",
    "from numpy import std \n",
    "\n",
    "# seed the random number generator \n",
    "seed(1) \n",
    "\n",
    "# generate univariate observations \n",
    "data = 5 * randn(10000) + 50 \n",
    "\n",
    "outliers, outliers_removed = identify_outliers_std_dev_method(data)"
   ]
  },
  {
   "cell_type": "markdown",
   "id": "f7c98136-f3d7-431c-92a5-16abaa7b33a7",
   "metadata": {},
   "source": [
    "#### Interquartile Range Method "
   ]
  },
  {
   "cell_type": "code",
   "execution_count": 27,
   "id": "f9e1c238-ce20-4235-9c37-0ce5d8f246c6",
   "metadata": {},
   "outputs": [],
   "source": [
    "# identify outliers with interquartile range \n",
    "def identify_outliers_iqr_method(data : np.ndarray):\n",
    "    \"\"\"\n",
    "    A good statistic for summarizing a non-Gaussian distribution sample of data is the Interquartile Range, or IQR for short.\n",
    "    This function identifies outliers with interquartile range (iqr).\n",
    "    Args:\n",
    "        data (ndarray): Raw data\n",
    "    Returns:\n",
    "        - outliers (ndarray) : only identified outliers\n",
    "        - outliers_removed (ndarray) : data with outliers removed\n",
    "    \"\"\"\n",
    "    \n",
    "    # calculate interquartile range \n",
    "    q25, q75 = percentile(data, 25), percentile(data, 75) \n",
    "    iqr = q75 - q25 \n",
    "    print(f\"Percentiles: 25th={round(q25,3)}, 75th={round(q75,3)}, IQR={round(iqr,3)}\") \n",
    "    \n",
    "    # calculate the outlier cutoff \n",
    "    cut_off = iqr * 1.5 \n",
    "    lower, upper = q25 - cut_off, q75 + cut_off \n",
    "    \n",
    "    # identify outliers \n",
    "    outliers = [x for x in data if x < lower or x > upper] \n",
    "    print('Identified outliers: %d' % len(outliers)) \n",
    "    \n",
    "    # remove outliers \n",
    "    outliers_removed = [x for x in data if x >= lower and x <= upper] \n",
    "    print('Non-outlier observations: %d' % len(outliers_removed))\n",
    "    \n",
    "    return outliers, outliers_removed"
   ]
  },
  {
   "cell_type": "code",
   "execution_count": 28,
   "id": "9c1fc81e-1e97-49c2-9f74-a492c04b653d",
   "metadata": {},
   "outputs": [
    {
     "name": "stdout",
     "output_type": "stream",
     "text": [
      "Percentiles: 25th=46.685, 75th=53.359, IQR=6.674\n",
      "Identified outliers: 81\n",
      "Non-outlier observations: 9919\n"
     ]
    }
   ],
   "source": [
    "# identify outliers with interquartile range \n",
    "from numpy.random import seed \n",
    "from numpy.random import randn \n",
    "from numpy import percentile \n",
    "# seed the random number generator \n",
    "seed(1) \n",
    "# generate univariate observations \n",
    "data = 5 * randn(10000) + 50 \n",
    "\n",
    "outliers, outliers_removed = identify_outliers_iqr_method(data)"
   ]
  },
  {
   "cell_type": "markdown",
   "id": "b52a4fc5-b0a2-49e1-ace9-7c90e8e7d83a",
   "metadata": {},
   "source": [
    "#### Automatic Outlier Detection "
   ]
  },
  {
   "cell_type": "code",
   "execution_count": 29,
   "id": "3a2d54eb-6f2e-4a09-8b86-7adde1ab466f",
   "metadata": {},
   "outputs": [
    {
     "data": {
      "text/plain": [
       "'Shape of boston_housing : (506, 14)'"
      ]
     },
     "metadata": {},
     "output_type": "display_data"
    }
   ],
   "source": [
    "# Load Boston Housing Dataset \n",
    "boston_housing = \"https://raw.githubusercontent.com/jbrownlee/Datasets/master/housing.csv \"\n",
    "boston_housing=pd.read_csv(boston_housing,header=None)\n",
    "display(f\"Shape of boston_housing : {boston_housing.shape}\")"
   ]
  },
  {
   "cell_type": "code",
   "execution_count": 30,
   "id": "216478f6-1fe1-4cf5-82f1-dd01cbf2479d",
   "metadata": {},
   "outputs": [
    {
     "name": "stdout",
     "output_type": "stream",
     "text": [
      "MAE: 3.417\n"
     ]
    }
   ],
   "source": [
    "# evaluate model on the raw dataset \n",
    "from pandas import read_csv \n",
    "from sklearn.model_selection import train_test_split \n",
    "from sklearn.linear_model import LinearRegression \n",
    "from sklearn.metrics import mean_absolute_error \n",
    "\n",
    "# retrieve the array \n",
    "data = boston_housing.values \n",
    "\n",
    "# split into input and output elements \n",
    "X, y = data[:, :-1], data[:, -1] \n",
    "\n",
    "# split into train and test sets \n",
    "X_train, X_test, y_train, y_test = train_test_split(X, y, test_size=0.33, random_state=1)\n",
    "\n",
    "# fit the model \n",
    "model = LinearRegression() \n",
    "model.fit(X_train, y_train) \n",
    "\n",
    "# evaluate the model\n",
    "yhat = model.predict(X_test) \n",
    "\n",
    "# evaluate predictions \n",
    "mae = mean_absolute_error(y_test, yhat) \n",
    "print(f\"MAE: {round(mae,3)}\")"
   ]
  },
  {
   "cell_type": "markdown",
   "id": "df815670-852b-418c-b703-828a68ca931b",
   "metadata": {},
   "source": [
    "##### LocalOutlierFactor"
   ]
  },
  {
   "cell_type": "code",
   "execution_count": 31,
   "id": "c398e9a6-6a4a-40f7-93e7-28adb8984ebe",
   "metadata": {},
   "outputs": [
    {
     "name": "stdout",
     "output_type": "stream",
     "text": [
      "(339, 13) (339,)\n",
      "(305, 13) (305,)\n",
      "MAE: 3.356\n"
     ]
    }
   ],
   "source": [
    "# evaluate model on training dataset with outliers removed \n",
    "from pandas import read_csv \n",
    "from sklearn.model_selection import train_test_split \n",
    "from sklearn.linear_model import LinearRegression \n",
    "from sklearn.neighbors import LocalOutlierFactor \n",
    "from sklearn.metrics import mean_absolute_error \n",
    "\n",
    "# retrieve the array \n",
    "data = boston_housing.values \n",
    "\n",
    "# split into input and output elements\n",
    "X, y = data[:, :-1], data[:, -1] \n",
    "\n",
    "# split into train and test sets \n",
    "X_train, X_test, y_train, y_test = train_test_split(X, y, test_size=0.33, random_state=1) \n",
    "\n",
    "# summarize the shape of the training dataset \n",
    "print(X_train.shape, y_train.shape) \n",
    "\n",
    "# identify outliers in the training dataset \n",
    "lof = LocalOutlierFactor() \n",
    "yhat = lof.fit_predict(X_train) \n",
    "\n",
    "# select all rows that are not outliers \n",
    "mask = yhat != -1 \n",
    "X_train, y_train = X_train[mask, :], y_train[mask] \n",
    "\n",
    "# summarize the shape of the updated training dataset \n",
    "print(X_train.shape, y_train.shape) \n",
    "\n",
    "# fit the model \n",
    "model = LinearRegression() \n",
    "model.fit(X_train, y_train) \n",
    "\n",
    "# evaluate the model \n",
    "yhat = model.predict(X_test) \n",
    "\n",
    "# evaluate predictions \n",
    "mae = mean_absolute_error(y_test, yhat) \n",
    "print(f\"MAE: {round(mae,3)}\")"
   ]
  },
  {
   "cell_type": "markdown",
   "id": "0d67c79f-5bfc-454c-8658-c7c4436d51e7",
   "metadata": {},
   "source": [
    "##### IsolationForest "
   ]
  },
  {
   "cell_type": "code",
   "execution_count": 32,
   "id": "3571cbfb-e7f5-4ce4-826b-fa639e6fa60f",
   "metadata": {},
   "outputs": [
    {
     "name": "stdout",
     "output_type": "stream",
     "text": [
      "(339, 13) (339,)\n",
      "(294, 13) (294,)\n",
      "MAE: 3.218\n"
     ]
    }
   ],
   "source": [
    "# evaluate model on training dataset with outliers removed \n",
    "from pandas import read_csv \n",
    "from sklearn.model_selection import train_test_split \n",
    "from sklearn.linear_model import LinearRegression \n",
    "from sklearn.ensemble import IsolationForest\n",
    "from sklearn.metrics import mean_absolute_error \n",
    "\n",
    "# retrieve the array \n",
    "data = boston_housing.values \n",
    "\n",
    "# split into input and output elements\n",
    "X, y = data[:, :-1], data[:, -1] \n",
    "\n",
    "# split into train and test sets \n",
    "X_train, X_test, y_train, y_test = train_test_split(X, y, test_size=0.33, random_state=1) \n",
    "\n",
    "# summarize the shape of the training dataset \n",
    "print(X_train.shape, y_train.shape) \n",
    "\n",
    "# identify outliers in the training dataset \n",
    "lof = IsolationForest() \n",
    "yhat = lof.fit_predict(X_train) \n",
    "\n",
    "# select all rows that are not outliers \n",
    "mask = yhat != -1 \n",
    "X_train, y_train = X_train[mask, :], y_train[mask] \n",
    "\n",
    "# summarize the shape of the updated training dataset \n",
    "print(X_train.shape, y_train.shape) \n",
    "\n",
    "# fit the model \n",
    "model = LinearRegression() \n",
    "model.fit(X_train, y_train) \n",
    "\n",
    "# evaluate the model \n",
    "yhat = model.predict(X_test) \n",
    "\n",
    "# evaluate predictions \n",
    "mae = mean_absolute_error(y_test, yhat) \n",
    "print(f\"MAE: {round(mae,3)}\")"
   ]
  },
  {
   "cell_type": "markdown",
   "id": "0d6cf012-b89d-43b0-8952-5162025a398b",
   "metadata": {},
   "source": [
    "### How to Mark and Remove Missing Data"
   ]
  },
  {
   "cell_type": "code",
   "execution_count": 33,
   "id": "ef41c103-884b-415c-a8aa-e4d1d48b7360",
   "metadata": {},
   "outputs": [
    {
     "data": {
      "text/plain": [
       "'Shape of diabetes_data : (768, 9)'"
      ]
     },
     "metadata": {},
     "output_type": "display_data"
    }
   ],
   "source": [
    "# Load datasets\n",
    "\n",
    "# Load diabetes data\n",
    "path_diabetes= \"https://raw.githubusercontent.com/jbrownlee/Datasets/master/pima-indians-diabetes.csv\"\n",
    "\n",
    "diabetes_data=pd.read_csv(path_diabetes,header=None)\n",
    "display(f\"Shape of diabetes_data : {diabetes_data.shape}\")"
   ]
  },
  {
   "cell_type": "code",
   "execution_count": 34,
   "id": "d82b05b7-90db-4bd2-b279-49dcd0531563",
   "metadata": {},
   "outputs": [],
   "source": [
    "# Copy of datasets\n",
    "diabetes_data_copy = diabetes_data.copy()"
   ]
  },
  {
   "cell_type": "markdown",
   "id": "c2b7d3a9-f50b-4d13-8d1a-7f396c7ed59b",
   "metadata": {},
   "source": [
    "#### Mark Missing Values"
   ]
  },
  {
   "cell_type": "code",
   "execution_count": 35,
   "id": "762b2982-9112-4632-b17e-5ca71178fe56",
   "metadata": {},
   "outputs": [
    {
     "name": "stdout",
     "output_type": "stream",
     "text": [
      "                0           1           2           3           4           5  \\\n",
      "count  768.000000  768.000000  768.000000  768.000000  768.000000  768.000000   \n",
      "mean     3.845052  120.894531   69.105469   20.536458   79.799479   31.992578   \n",
      "std      3.369578   31.972618   19.355807   15.952218  115.244002    7.884160   \n",
      "min      0.000000    0.000000    0.000000    0.000000    0.000000    0.000000   \n",
      "25%      1.000000   99.000000   62.000000    0.000000    0.000000   27.300000   \n",
      "50%      3.000000  117.000000   72.000000   23.000000   30.500000   32.000000   \n",
      "75%      6.000000  140.250000   80.000000   32.000000  127.250000   36.600000   \n",
      "max     17.000000  199.000000  122.000000   99.000000  846.000000   67.100000   \n",
      "\n",
      "                6           7           8  \n",
      "count  768.000000  768.000000  768.000000  \n",
      "mean     0.471876   33.240885    0.348958  \n",
      "std      0.331329   11.760232    0.476951  \n",
      "min      0.078000   21.000000    0.000000  \n",
      "25%      0.243750   24.000000    0.000000  \n",
      "50%      0.372500   29.000000    0.000000  \n",
      "75%      0.626250   41.000000    1.000000  \n",
      "max      2.420000   81.000000    1.000000  \n"
     ]
    }
   ],
   "source": [
    "# Summarize the dataset from pandas import read_csv\n",
    "print(diabetes_data.describe())"
   ]
  },
  {
   "cell_type": "markdown",
   "id": "bcdb2f05-bf60-48be-8183-0b836bc1d7b4",
   "metadata": {},
   "source": [
    "This is useful. We can see that there are columns that have a minimum value of zero (0). On some columns, a value of zero does not make sense and indicates an invalid or missing value."
   ]
  },
  {
   "cell_type": "code",
   "execution_count": 36,
   "id": "508ef3c4-e46c-4d92-a959-0e0365a26618",
   "metadata": {},
   "outputs": [
    {
     "name": "stdout",
     "output_type": "stream",
     "text": [
      "1      5\n",
      "2     35\n",
      "3    227\n",
      "4    374\n",
      "5     11\n",
      "dtype: int64\n"
     ]
    }
   ],
   "source": [
    "# example of summarizing the number of missing values for each variable from pandas import read_csv\n",
    "# count the number of missing values for each column \n",
    "num_missing = (diabetes_data[[1,2,3,4,5]] == 0).sum()\n",
    "\n",
    "# report the results \n",
    "print(num_missing)"
   ]
  },
  {
   "cell_type": "markdown",
   "id": "177087fb-dc9c-4f16-8c86-ba0ba02e0263",
   "metadata": {},
   "source": [
    "In Python, specifically Pandas, NumPy and Scikit-Learn, we mark missing values as NaN. Values with a NaN value are ignored from operations like sum, count, etc. We can mark values as NaN easily with the Pandas DataFrame by using the replace() function on a subset of the columns we are interested in. After we have marked the missing values, we can use the isnull() function to mark all of the NaN values in the dataset as True and get a count of the missing values for each column."
   ]
  },
  {
   "cell_type": "code",
   "execution_count": 37,
   "id": "f09d3d5d-662d-426c-a010-5a98761e4df8",
   "metadata": {},
   "outputs": [
    {
     "name": "stdout",
     "output_type": "stream",
     "text": [
      "0      0\n",
      "1      5\n",
      "2     35\n",
      "3    227\n",
      "4    374\n",
      "5     11\n",
      "6      0\n",
      "7      0\n",
      "8      0\n",
      "dtype: int64\n"
     ]
    }
   ],
   "source": [
    "# example of marking missing values with nan values from numpy import nan\n",
    " # replace '0' values with 'nan'\n",
    "diabetes_data[[1,2,3,4,5]]  =  diabetes_data[[1,2,3,4,5]].replace(0,  np.nan) \n",
    "\n",
    "# count the number of nan values in each column \n",
    "print(diabetes_data.isnull().sum())\n"
   ]
  },
  {
   "cell_type": "markdown",
   "id": "22c97df7-ab24-47f0-8782-fbc1b9ab278e",
   "metadata": {},
   "source": [
    "This is a useful summary, as we want to confirm that we have not fooled ourselves somehow.\n",
    "Below is the same example, except we print the first 20 rows of data."
   ]
  },
  {
   "cell_type": "code",
   "execution_count": 38,
   "id": "d6e061dd-2f27-42ed-bbcf-bf1c99d3b3f6",
   "metadata": {},
   "outputs": [
    {
     "name": "stdout",
     "output_type": "stream",
     "text": [
      "     0      1     2     3      4     5      6   7  8\n",
      "0    6  148.0  72.0  35.0    NaN  33.6  0.627  50  1\n",
      "1    1   85.0  66.0  29.0    NaN  26.6  0.351  31  0\n",
      "2    8  183.0  64.0   NaN    NaN  23.3  0.672  32  1\n",
      "3    1   89.0  66.0  23.0   94.0  28.1  0.167  21  0\n",
      "4    0  137.0  40.0  35.0  168.0  43.1  2.288  33  1\n",
      "5    5  116.0  74.0   NaN    NaN  25.6  0.201  30  0\n",
      "6    3   78.0  50.0  32.0   88.0  31.0  0.248  26  1\n",
      "7   10  115.0   NaN   NaN    NaN  35.3  0.134  29  0\n",
      "8    2  197.0  70.0  45.0  543.0  30.5  0.158  53  1\n",
      "9    8  125.0  96.0   NaN    NaN   NaN  0.232  54  1\n",
      "10   4  110.0  92.0   NaN    NaN  37.6  0.191  30  0\n",
      "11  10  168.0  74.0   NaN    NaN  38.0  0.537  34  1\n",
      "12  10  139.0  80.0   NaN    NaN  27.1  1.441  57  0\n",
      "13   1  189.0  60.0  23.0  846.0  30.1  0.398  59  1\n",
      "14   5  166.0  72.0  19.0  175.0  25.8  0.587  51  1\n",
      "15   7  100.0   NaN   NaN    NaN  30.0  0.484  32  1\n",
      "16   0  118.0  84.0  47.0  230.0  45.8  0.551  31  1\n",
      "17   7  107.0  74.0   NaN    NaN  29.6  0.254  31  1\n",
      "18   1  103.0  30.0  38.0   83.0  43.3  0.183  33  0\n",
      "19   1  115.0  70.0  30.0   96.0  34.6  0.529  32  1\n"
     ]
    }
   ],
   "source": [
    "# example of review data with missing values marked with a nan from numpy import nan\n",
    "# replace '0' values with 'nan'\n",
    "diabetes_data[[1,2,3,4,5]]  =  diabetes_data[[1,2,3,4,5]].replace(0,  np.nan) \n",
    "\n",
    "# summarize the first 20 rows of data \n",
    "print(diabetes_data.head(20))"
   ]
  },
  {
   "cell_type": "markdown",
   "id": "b4b77366-6841-46e4-9e91-80ad5562ee48",
   "metadata": {},
   "source": [
    "#### Missing Values Cause Problems"
   ]
  },
  {
   "cell_type": "markdown",
   "id": "b6db7a14-e017-45a8-8743-18169cfaeda8",
   "metadata": {},
   "source": [
    "Having missing values in a dataset can cause errors with some machine learning algorithms.\n",
    "In this section, we will try to evaluate the Linear Discriminant Analysis (LDA) algorithm on the dataset with missing values. This is an algorithm that does not work when there are missing values in the dataset. The example below marks the missing values in the dataset, as we did in the previous section, then attempts to evaluate LDA using 3-fold cross-validation and print the mean accuracy\n"
   ]
  },
  {
   "cell_type": "code",
   "execution_count": 39,
   "id": "0f5837f1-cf21-42ba-8b43-923e9b2e450c",
   "metadata": {
    "scrolled": true
   },
   "outputs": [],
   "source": [
    "# # example where missing values cause errors from numpy import nan\n",
    "# from pandas import read_csv\n",
    "# from sklearn.discriminant_analysis import LinearDiscriminantAnalysis \n",
    "# from sklearn.model_selection import KFold\n",
    "# from sklearn.model_selection import cross_val_score\n",
    "\n",
    "# # load the dataset\n",
    "# diabetes_data = diabetes_data_copy\n",
    "\n",
    "# # replace '0' values with 'nan'\n",
    "# diabetes_data[[1,2,3,4,5]] = diabetes_data[[1,2,3,4,5]].replace(0, np.nan) \n",
    "\n",
    "# # split dataset into inputs and outputs\n",
    "# values = diabetes_data.values\n",
    "# X = values[:,0:8]\n",
    "# y = values[:,8]\n",
    "\n",
    "# # define the model\n",
    "# model  =  LinearDiscriminantAnalysis()\n",
    "\n",
    "# # define the model evaluation procedure\n",
    "# cv = KFold(n_splits=3, shuffle=True, random_state=1) \n",
    "\n",
    "# # evaluate the model\n",
    "# result = cross_val_score(model, X, y, cv=cv, scoring='accuracy')\n",
    "\n",
    "# # report the mean performance \n",
    "# print('Accuracy: %.3f' % result.mean())"
   ]
  },
  {
   "cell_type": "markdown",
   "id": "1501121d-83e7-4f9e-8294-a053fc7ec77a",
   "metadata": {},
   "source": [
    "Example error message when trying to evaluate a model with missing values."
   ]
  },
  {
   "attachments": {
    "61856668-09d5-41f0-90df-46617f7e8e2f.png": {
     "image/png": "[encoded data removed]"
    }
   },
   "cell_type": "markdown",
   "id": "8d388191-a498-4504-a5b6-a9d1a53e3934",
   "metadata": {},
   "source": [
    "![image.png](attachment:61856668-09d5-41f0-90df-46617f7e8e2f.png)"
   ]
  },
  {
   "cell_type": "markdown",
   "id": "d5e26acd-c182-4682-aaa5-8e84ec2e4491",
   "metadata": {},
   "source": [
    "This is as we expect. We are prevented from evaluating an LDA algorithm (and other algorithms) on the dataset with missing values."
   ]
  },
  {
   "cell_type": "markdown",
   "id": "9c38c397-d1f0-490b-90ff-9ce8ed5526d7",
   "metadata": {},
   "source": [
    "#### Remove Rows With Missing Values"
   ]
  },
  {
   "cell_type": "markdown",
   "id": "508e9799-6f37-493f-a915-71ae96c694f3",
   "metadata": {},
   "source": [
    "The simplest strategy for handling missing data is to remove records that contain a missing value."
   ]
  },
  {
   "cell_type": "code",
   "execution_count": 40,
   "id": "234c7cf8-6d7c-4036-b2a2-2719b05855b4",
   "metadata": {},
   "outputs": [
    {
     "name": "stdout",
     "output_type": "stream",
     "text": [
      "(768, 9)\n",
      "(392, 9)\n"
     ]
    }
   ],
   "source": [
    "# example of removing rows that contain missing values from numpy import nan\n",
    "from pandas import read_csv \n",
    "\n",
    "# load the dataset\n",
    "diabetes_data = diabetes_data_copy\n",
    "\n",
    "# summarize the shape of the raw data\n",
    "print(diabetes_data.shape)\n",
    "\n",
    "# replace '0' values with 'nan'\n",
    "diabetes_data[[1,2,3,4,5]]  =  diabetes_data[[1,2,3,4,5]].replace(0,  np.nan) \n",
    "\n",
    "# drop rows with missing values \n",
    "diabetes_data.dropna(inplace=True)\n",
    "\n",
    "# summarize the shape of the data with missing rows removed \n",
    "print(diabetes_data.shape)"
   ]
  },
  {
   "cell_type": "markdown",
   "id": "8753edb7-4d01-4a21-b580-0afb8a3d1e2c",
   "metadata": {},
   "source": [
    "We now have a dataset that we could use to evaluate an algorithm sensitive to missing values like LDA."
   ]
  },
  {
   "cell_type": "code",
   "execution_count": 41,
   "id": "3d965e2c-60ae-41fe-b4fc-40fd20f28629",
   "metadata": {},
   "outputs": [
    {
     "name": "stdout",
     "output_type": "stream",
     "text": [
      "Accuracy: 0.781\n"
     ]
    }
   ],
   "source": [
    "# evaluate model on data after rows with missing data are removed from numpy import nan\n",
    "from pandas import read_csv\n",
    "from sklearn.discriminant_analysis import LinearDiscriminantAnalysis \n",
    "from sklearn.model_selection import KFold\n",
    "from sklearn.model_selection import cross_val_score\n",
    "\n",
    "# load the dataset\n",
    "diabetes_data = diabetes_data_copy\n",
    "\n",
    "# replace '0' values with 'nan'\n",
    "diabetes_data[[1,2,3,4,5]]  =  diabetes_data[[1,2,3,4,5]].replace(0,  np.nan) \n",
    "\n",
    "# drop rows with missing values \n",
    "diabetes_data.dropna(inplace=True)\n",
    "\n",
    "# split dataset into inputs and outputs \n",
    "values = diabetes_data.values\n",
    "X = values[:,0:8]\n",
    "y = values[:,8]\n",
    "\n",
    "# define the model\n",
    "model  =  LinearDiscriminantAnalysis()\n",
    "\n",
    "# define the model evaluation procedure\n",
    "cv = KFold(n_splits=3, shuffle=True, random_state=1) \n",
    "\n",
    "# evaluate the model\n",
    "result = cross_val_score(model, X, y, cv=cv, scoring='accuracy') \n",
    "\n",
    "# report the mean performance\n",
    "print('Accuracy: %.3f' % result.mean())"
   ]
  },
  {
   "cell_type": "markdown",
   "id": "3fda2a87-1bbe-4429-93c3-f6fc3c18e02b",
   "metadata": {},
   "source": [
    "**Removing rows with missing values can be too limiting on some predictive modeling problems, an alternative is to impute missing values.**"
   ]
  },
  {
   "cell_type": "markdown",
   "id": "7fc3f854-b862-44d1-97f2-28ba37bd07ae",
   "metadata": {},
   "source": [
    "### How to Use Statistical Imputation"
   ]
  },
  {
   "cell_type": "code",
   "execution_count": 42,
   "id": "36894fd9-0b5f-4bc0-9777-caaec7e06eef",
   "metadata": {},
   "outputs": [
    {
     "data": {
      "text/plain": [
       "'Shape of horse_colic_data : (300, 28)'"
      ]
     },
     "metadata": {},
     "output_type": "display_data"
    }
   ],
   "source": [
    "# Load datasets\n",
    "\n",
    "# Load diabetes data\n",
    "path_horse_colic= \"https://raw.githubusercontent.com/jbrownlee/Datasets/master/horse-colic.csv\"\n",
    "\n",
    "horse_colic_data=pd.read_csv(path_horse_colic,header=None)\n",
    "display(f\"Shape of horse_colic_data : {horse_colic_data.shape}\")"
   ]
  },
  {
   "cell_type": "code",
   "execution_count": 43,
   "id": "4670e8f5-3942-4620-995a-fd318eabec9c",
   "metadata": {},
   "outputs": [],
   "source": [
    "# Copy of datasets\n",
    "horse_colic_data_copy = horse_colic_data.copy()"
   ]
  },
  {
   "cell_type": "code",
   "execution_count": 44,
   "id": "6644402f-a0f6-45f5-843e-6557fcbd7720",
   "metadata": {
    "scrolled": true
   },
   "outputs": [
    {
     "data": {
      "text/html": [
       "<div>\n",
       "<style scoped>\n",
       "    .dataframe tbody tr th:only-of-type {\n",
       "        vertical-align: middle;\n",
       "    }\n",
       "\n",
       "    .dataframe tbody tr th {\n",
       "        vertical-align: top;\n",
       "    }\n",
       "\n",
       "    .dataframe thead th {\n",
       "        text-align: right;\n",
       "    }\n",
       "</style>\n",
       "<table border=\"1\" class=\"dataframe\">\n",
       "  <thead>\n",
       "    <tr style=\"text-align: right;\">\n",
       "      <th></th>\n",
       "      <th>0</th>\n",
       "      <th>1</th>\n",
       "      <th>2</th>\n",
       "      <th>3</th>\n",
       "      <th>4</th>\n",
       "      <th>5</th>\n",
       "      <th>6</th>\n",
       "      <th>7</th>\n",
       "      <th>8</th>\n",
       "      <th>9</th>\n",
       "      <th>...</th>\n",
       "      <th>18</th>\n",
       "      <th>19</th>\n",
       "      <th>20</th>\n",
       "      <th>21</th>\n",
       "      <th>22</th>\n",
       "      <th>23</th>\n",
       "      <th>24</th>\n",
       "      <th>25</th>\n",
       "      <th>26</th>\n",
       "      <th>27</th>\n",
       "    </tr>\n",
       "  </thead>\n",
       "  <tbody>\n",
       "    <tr>\n",
       "      <th>0</th>\n",
       "      <td>2</td>\n",
       "      <td>1</td>\n",
       "      <td>530101</td>\n",
       "      <td>38.50</td>\n",
       "      <td>66</td>\n",
       "      <td>28</td>\n",
       "      <td>3</td>\n",
       "      <td>3</td>\n",
       "      <td>?</td>\n",
       "      <td>2</td>\n",
       "      <td>...</td>\n",
       "      <td>45.00</td>\n",
       "      <td>8.40</td>\n",
       "      <td>?</td>\n",
       "      <td>?</td>\n",
       "      <td>2</td>\n",
       "      <td>2</td>\n",
       "      <td>11300</td>\n",
       "      <td>0</td>\n",
       "      <td>0</td>\n",
       "      <td>2</td>\n",
       "    </tr>\n",
       "    <tr>\n",
       "      <th>1</th>\n",
       "      <td>1</td>\n",
       "      <td>1</td>\n",
       "      <td>534817</td>\n",
       "      <td>39.2</td>\n",
       "      <td>88</td>\n",
       "      <td>20</td>\n",
       "      <td>?</td>\n",
       "      <td>?</td>\n",
       "      <td>4</td>\n",
       "      <td>1</td>\n",
       "      <td>...</td>\n",
       "      <td>50</td>\n",
       "      <td>85</td>\n",
       "      <td>2</td>\n",
       "      <td>2</td>\n",
       "      <td>3</td>\n",
       "      <td>2</td>\n",
       "      <td>2208</td>\n",
       "      <td>0</td>\n",
       "      <td>0</td>\n",
       "      <td>2</td>\n",
       "    </tr>\n",
       "    <tr>\n",
       "      <th>2</th>\n",
       "      <td>2</td>\n",
       "      <td>1</td>\n",
       "      <td>530334</td>\n",
       "      <td>38.30</td>\n",
       "      <td>40</td>\n",
       "      <td>24</td>\n",
       "      <td>1</td>\n",
       "      <td>1</td>\n",
       "      <td>3</td>\n",
       "      <td>1</td>\n",
       "      <td>...</td>\n",
       "      <td>33.00</td>\n",
       "      <td>6.70</td>\n",
       "      <td>?</td>\n",
       "      <td>?</td>\n",
       "      <td>1</td>\n",
       "      <td>2</td>\n",
       "      <td>0</td>\n",
       "      <td>0</td>\n",
       "      <td>0</td>\n",
       "      <td>1</td>\n",
       "    </tr>\n",
       "    <tr>\n",
       "      <th>3</th>\n",
       "      <td>1</td>\n",
       "      <td>9</td>\n",
       "      <td>5290409</td>\n",
       "      <td>39.10</td>\n",
       "      <td>164</td>\n",
       "      <td>84</td>\n",
       "      <td>4</td>\n",
       "      <td>1</td>\n",
       "      <td>6</td>\n",
       "      <td>2</td>\n",
       "      <td>...</td>\n",
       "      <td>48.00</td>\n",
       "      <td>7.20</td>\n",
       "      <td>3</td>\n",
       "      <td>5.30</td>\n",
       "      <td>2</td>\n",
       "      <td>1</td>\n",
       "      <td>2208</td>\n",
       "      <td>0</td>\n",
       "      <td>0</td>\n",
       "      <td>1</td>\n",
       "    </tr>\n",
       "    <tr>\n",
       "      <th>4</th>\n",
       "      <td>2</td>\n",
       "      <td>1</td>\n",
       "      <td>530255</td>\n",
       "      <td>37.30</td>\n",
       "      <td>104</td>\n",
       "      <td>35</td>\n",
       "      <td>?</td>\n",
       "      <td>?</td>\n",
       "      <td>6</td>\n",
       "      <td>2</td>\n",
       "      <td>...</td>\n",
       "      <td>74.00</td>\n",
       "      <td>7.40</td>\n",
       "      <td>?</td>\n",
       "      <td>?</td>\n",
       "      <td>2</td>\n",
       "      <td>2</td>\n",
       "      <td>4300</td>\n",
       "      <td>0</td>\n",
       "      <td>0</td>\n",
       "      <td>2</td>\n",
       "    </tr>\n",
       "  </tbody>\n",
       "</table>\n",
       "<p>5 rows × 28 columns</p>\n",
       "</div>"
      ],
      "text/plain": [
       "  0   1        2      3    4   5  6  7  8  9   ...     18    19 20    21 22  \\\n",
       "0  2   1   530101  38.50   66  28  3  3  ?  2  ...  45.00  8.40  ?     ?  2   \n",
       "1  1   1   534817   39.2   88  20  ?  ?  4  1  ...     50    85  2     2  3   \n",
       "2  2   1   530334  38.30   40  24  1  1  3  1  ...  33.00  6.70  ?     ?  1   \n",
       "3  1   9  5290409  39.10  164  84  4  1  6  2  ...  48.00  7.20  3  5.30  2   \n",
       "4  2   1   530255  37.30  104  35  ?  ?  6  2  ...  74.00  7.40  ?     ?  2   \n",
       "\n",
       "  23     24 25 26 27  \n",
       "0  2  11300  0  0  2  \n",
       "1  2   2208  0  0  2  \n",
       "2  2      0  0  0  1  \n",
       "3  1   2208  0  0  1  \n",
       "4  2   4300  0  0  2  \n",
       "\n",
       "[5 rows x 28 columns]"
      ]
     },
     "execution_count": 44,
     "metadata": {},
     "output_type": "execute_result"
    }
   ],
   "source": [
    "# Head of data\n",
    "horse_colic_data.head()"
   ]
  },
  {
   "cell_type": "markdown",
   "id": "530684f6-5ef2-4404-8521-8bddc80e162d",
   "metadata": {},
   "source": [
    "Marking missing values with a NaN (not a number) value in a loaded dataset using Python is a best practice. \n",
    "**We can load the dataset using the read csv() Pandas function and specify the na values to load values of “?” as missing, marked with a NaN value.**"
   ]
  },
  {
   "cell_type": "code",
   "execution_count": 45,
   "id": "c7079f79-aa25-47ec-8066-b808058fe7f7",
   "metadata": {},
   "outputs": [
    {
     "data": {
      "text/plain": [
       "'Shape of horse_colic_data : (300, 28)'"
      ]
     },
     "metadata": {},
     "output_type": "display_data"
    }
   ],
   "source": [
    "# load dataset\n",
    "horse_colic_data = read_csv(path_horse_colic, header=None, na_values='?')\n",
    "display(f\"Shape of horse_colic_data : {horse_colic_data.shape}\")"
   ]
  },
  {
   "cell_type": "code",
   "execution_count": 46,
   "id": "5b772d7f-bef8-4673-9ded-69291e2bdd9a",
   "metadata": {},
   "outputs": [],
   "source": [
    "# Copy of datasets\n",
    "horse_colic_data_copy = horse_colic_data.copy()"
   ]
  },
  {
   "cell_type": "code",
   "execution_count": 47,
   "id": "ecb35143-d5e2-4361-b3b7-38b3f871c71d",
   "metadata": {
    "scrolled": true
   },
   "outputs": [
    {
     "data": {
      "text/html": [
       "<div>\n",
       "<style scoped>\n",
       "    .dataframe tbody tr th:only-of-type {\n",
       "        vertical-align: middle;\n",
       "    }\n",
       "\n",
       "    .dataframe tbody tr th {\n",
       "        vertical-align: top;\n",
       "    }\n",
       "\n",
       "    .dataframe thead th {\n",
       "        text-align: right;\n",
       "    }\n",
       "</style>\n",
       "<table border=\"1\" class=\"dataframe\">\n",
       "  <thead>\n",
       "    <tr style=\"text-align: right;\">\n",
       "      <th></th>\n",
       "      <th>0</th>\n",
       "      <th>1</th>\n",
       "      <th>2</th>\n",
       "      <th>3</th>\n",
       "      <th>4</th>\n",
       "      <th>5</th>\n",
       "      <th>6</th>\n",
       "      <th>7</th>\n",
       "      <th>8</th>\n",
       "      <th>9</th>\n",
       "      <th>...</th>\n",
       "      <th>18</th>\n",
       "      <th>19</th>\n",
       "      <th>20</th>\n",
       "      <th>21</th>\n",
       "      <th>22</th>\n",
       "      <th>23</th>\n",
       "      <th>24</th>\n",
       "      <th>25</th>\n",
       "      <th>26</th>\n",
       "      <th>27</th>\n",
       "    </tr>\n",
       "  </thead>\n",
       "  <tbody>\n",
       "    <tr>\n",
       "      <th>0</th>\n",
       "      <td>2.0</td>\n",
       "      <td>1</td>\n",
       "      <td>530101</td>\n",
       "      <td>38.5</td>\n",
       "      <td>66.0</td>\n",
       "      <td>28.0</td>\n",
       "      <td>3.0</td>\n",
       "      <td>3.0</td>\n",
       "      <td>NaN</td>\n",
       "      <td>2.0</td>\n",
       "      <td>...</td>\n",
       "      <td>45.0</td>\n",
       "      <td>8.4</td>\n",
       "      <td>NaN</td>\n",
       "      <td>NaN</td>\n",
       "      <td>2.0</td>\n",
       "      <td>2</td>\n",
       "      <td>11300</td>\n",
       "      <td>0</td>\n",
       "      <td>0</td>\n",
       "      <td>2</td>\n",
       "    </tr>\n",
       "    <tr>\n",
       "      <th>1</th>\n",
       "      <td>1.0</td>\n",
       "      <td>1</td>\n",
       "      <td>534817</td>\n",
       "      <td>39.2</td>\n",
       "      <td>88.0</td>\n",
       "      <td>20.0</td>\n",
       "      <td>NaN</td>\n",
       "      <td>NaN</td>\n",
       "      <td>4.0</td>\n",
       "      <td>1.0</td>\n",
       "      <td>...</td>\n",
       "      <td>50.0</td>\n",
       "      <td>85.0</td>\n",
       "      <td>2.0</td>\n",
       "      <td>2.0</td>\n",
       "      <td>3.0</td>\n",
       "      <td>2</td>\n",
       "      <td>2208</td>\n",
       "      <td>0</td>\n",
       "      <td>0</td>\n",
       "      <td>2</td>\n",
       "    </tr>\n",
       "    <tr>\n",
       "      <th>2</th>\n",
       "      <td>2.0</td>\n",
       "      <td>1</td>\n",
       "      <td>530334</td>\n",
       "      <td>38.3</td>\n",
       "      <td>40.0</td>\n",
       "      <td>24.0</td>\n",
       "      <td>1.0</td>\n",
       "      <td>1.0</td>\n",
       "      <td>3.0</td>\n",
       "      <td>1.0</td>\n",
       "      <td>...</td>\n",
       "      <td>33.0</td>\n",
       "      <td>6.7</td>\n",
       "      <td>NaN</td>\n",
       "      <td>NaN</td>\n",
       "      <td>1.0</td>\n",
       "      <td>2</td>\n",
       "      <td>0</td>\n",
       "      <td>0</td>\n",
       "      <td>0</td>\n",
       "      <td>1</td>\n",
       "    </tr>\n",
       "    <tr>\n",
       "      <th>3</th>\n",
       "      <td>1.0</td>\n",
       "      <td>9</td>\n",
       "      <td>5290409</td>\n",
       "      <td>39.1</td>\n",
       "      <td>164.0</td>\n",
       "      <td>84.0</td>\n",
       "      <td>4.0</td>\n",
       "      <td>1.0</td>\n",
       "      <td>6.0</td>\n",
       "      <td>2.0</td>\n",
       "      <td>...</td>\n",
       "      <td>48.0</td>\n",
       "      <td>7.2</td>\n",
       "      <td>3.0</td>\n",
       "      <td>5.3</td>\n",
       "      <td>2.0</td>\n",
       "      <td>1</td>\n",
       "      <td>2208</td>\n",
       "      <td>0</td>\n",
       "      <td>0</td>\n",
       "      <td>1</td>\n",
       "    </tr>\n",
       "    <tr>\n",
       "      <th>4</th>\n",
       "      <td>2.0</td>\n",
       "      <td>1</td>\n",
       "      <td>530255</td>\n",
       "      <td>37.3</td>\n",
       "      <td>104.0</td>\n",
       "      <td>35.0</td>\n",
       "      <td>NaN</td>\n",
       "      <td>NaN</td>\n",
       "      <td>6.0</td>\n",
       "      <td>2.0</td>\n",
       "      <td>...</td>\n",
       "      <td>74.0</td>\n",
       "      <td>7.4</td>\n",
       "      <td>NaN</td>\n",
       "      <td>NaN</td>\n",
       "      <td>2.0</td>\n",
       "      <td>2</td>\n",
       "      <td>4300</td>\n",
       "      <td>0</td>\n",
       "      <td>0</td>\n",
       "      <td>2</td>\n",
       "    </tr>\n",
       "  </tbody>\n",
       "</table>\n",
       "<p>5 rows × 28 columns</p>\n",
       "</div>"
      ],
      "text/plain": [
       "    0   1        2     3      4     5    6    7    8    9   ...    18    19  \\\n",
       "0  2.0   1   530101  38.5   66.0  28.0  3.0  3.0  NaN  2.0  ...  45.0   8.4   \n",
       "1  1.0   1   534817  39.2   88.0  20.0  NaN  NaN  4.0  1.0  ...  50.0  85.0   \n",
       "2  2.0   1   530334  38.3   40.0  24.0  1.0  1.0  3.0  1.0  ...  33.0   6.7   \n",
       "3  1.0   9  5290409  39.1  164.0  84.0  4.0  1.0  6.0  2.0  ...  48.0   7.2   \n",
       "4  2.0   1   530255  37.3  104.0  35.0  NaN  NaN  6.0  2.0  ...  74.0   7.4   \n",
       "\n",
       "    20   21   22  23     24  25  26  27  \n",
       "0  NaN  NaN  2.0   2  11300   0   0   2  \n",
       "1  2.0  2.0  3.0   2   2208   0   0   2  \n",
       "2  NaN  NaN  1.0   2      0   0   0   1  \n",
       "3  3.0  5.3  2.0   1   2208   0   0   1  \n",
       "4  NaN  NaN  2.0   2   4300   0   0   2  \n",
       "\n",
       "[5 rows x 28 columns]"
      ]
     },
     "execution_count": 47,
     "metadata": {},
     "output_type": "execute_result"
    }
   ],
   "source": [
    "# Head of data\n",
    "horse_colic_data.head()"
   ]
  },
  {
   "cell_type": "code",
   "execution_count": 48,
   "id": "3ff2b6ac-73bc-4165-bf43-a5a924f26a1b",
   "metadata": {
    "scrolled": true
   },
   "outputs": [
    {
     "name": "stdout",
     "output_type": "stream",
     "text": [
      "> 0, Missing: 6 (2.0%)\n",
      "> 1, Missing: 5 (1.7%)\n",
      "> 2, Missing: 5 (1.7%)\n",
      "> 3, Missing: 1 (0.3%)\n",
      "> 4, Missing: 12 (4.0%)\n",
      "> 5, Missing: 8 (2.7%)\n",
      "> 6, Missing: 3 (1.0%)\n",
      "> 7, Missing: 8 (2.7%)\n",
      "> 8, Missing: 4 (1.3%)\n",
      "> 9, Missing: 4 (1.3%)\n",
      "> 10, Missing: 0 (0.0%)\n",
      "> 11, Missing: 4 (1.3%)\n",
      "> 12, Missing: 4 (1.3%)\n",
      "> 13, Missing: 2 (0.7%)\n",
      "> 14, Missing: 1 (0.3%)\n",
      "> 15, Missing: 3 (1.0%)\n",
      "> 16, Missing: 3 (1.0%)\n",
      "> 17, Missing: 16 (5.3%)\n",
      "> 18, Missing: 2 (0.7%)\n",
      "> 19, Missing: 9 (3.0%)\n",
      "> 20, Missing: 2 (0.7%)\n",
      "> 21, Missing: 3 (1.0%)\n",
      "> 22, Missing: 7 (2.3%)\n",
      "> 23, Missing: 10 (3.3%)\n",
      "> 24, Missing: 5 (1.7%)\n",
      "> 25, Missing: 15 (5.0%)\n",
      "> 26, Missing: 1 (0.3%)\n",
      "> 27, Missing: 2 (0.7%)\n"
     ]
    }
   ],
   "source": [
    "# summarize the number of rows with missing values for each column \n",
    "for i in range(horse_colic_data.shape[1]):\n",
    "    # count number of rows with missing values \n",
    "    n_miss = horse_colic_data.iloc[i].isnull().sum()\n",
    "    perc = n_miss / horse_colic_data.shape[0] * 100\n",
    "    perc = round(perc,1)\n",
    "    print(f'> {i}, Missing: {n_miss} ({perc}%)' )"
   ]
  },
  {
   "cell_type": "markdown",
   "id": "d3d2e73e-1df5-475d-81dc-ed99e2de2ec2",
   "metadata": {},
   "source": [
    "#### Statistical Imputation With SimpleImputer"
   ]
  },
  {
   "cell_type": "markdown",
   "id": "3e65e0ab-30ae-4ad5-8f26-ea4b2290c12b",
   "metadata": {},
   "source": [
    "The scikit-learn machine learning library provides the SimpleImputer class that supports statistical imputation. In this section, we will explore how to effectively use the SimpleImputer class."
   ]
  },
  {
   "cell_type": "code",
   "execution_count": 49,
   "id": "78d91352-22f4-420b-b2ce-1dc1825a65ed",
   "metadata": {},
   "outputs": [
    {
     "name": "stdout",
     "output_type": "stream",
     "text": [
      "Missing:  1605\n",
      "Missing:  0\n"
     ]
    }
   ],
   "source": [
    "# statistical imputation transform for the horse colic dataset from numpy import isnan\n",
    "from pandas import read_csv\n",
    "from sklearn.impute import SimpleImputer\n",
    "\n",
    "# load dataset\n",
    "horse_colic_data = horse_colic_data_copy\n",
    "\n",
    "# split into input and output elements\n",
    "data = horse_colic_data.values\n",
    "ix = [i for i in range(data.shape[1]) if i != 23] \n",
    "X, y = data[:, ix], data[:, 23]\n",
    "\n",
    "# summarize total missing\n",
    "print(f\"Missing:  {sum(np.isnan(X).flatten())}\") \n",
    "\n",
    "# define imputer\n",
    "imputer = SimpleImputer(strategy='mean') \n",
    "\n",
    "# fit on the dataset\n",
    "imputer.fit(X)\n",
    "\n",
    "# transform the dataset \n",
    "Xtrans = imputer.transform(X) \n",
    "\n",
    "# summarize total missing\n",
    "print(f\"Missing:  {sum(np.isnan(Xtrans).flatten())}\") "
   ]
  },
  {
   "cell_type": "markdown",
   "id": "c7d96484-7dfe-4b7b-a1c0-5fde2227b745",
   "metadata": {},
   "source": [
    "#### SimpleImputer and Model Evaluation"
   ]
  },
  {
   "cell_type": "markdown",
   "id": "54ad368b-e34d-49db-bf6f-ebff617bbd47",
   "metadata": {},
   "source": [
    "It is a good practice to evaluate machine learning models on a dataset using k-fold cross- validation. **To correctly apply statistical missing data imputation and avoid data leakage**, it is required that the statistics calculated for each column are calculated on the training dataset only, then applied to the train and test sets for each fold in the dataset."
   ]
  },
  {
   "cell_type": "markdown",
   "id": "be3f39e3-cab8-4e77-a42f-fc4ab25e2406",
   "metadata": {},
   "source": [
    "This can be achieved by creating a modeling pipeline where the first step is the statistical imputation, then the second step is the model. This can be achieved using the Pipeline class. For example, the Pipeline below uses a SimpleImputer with a ‘mean’ strategy, followed by a random forest model."
   ]
  },
  {
   "cell_type": "code",
   "execution_count": 50,
   "id": "0d49e1ba-b2f9-4335-8ebd-1d180d6c3b5b",
   "metadata": {},
   "outputs": [
    {
     "name": "stdout",
     "output_type": "stream",
     "text": [
      "Mean Accuracy: 0.857 (0.052)\n"
     ]
    }
   ],
   "source": [
    "# evaluate mean imputation and random forest for the horse colic dataset from numpy import mean\n",
    "from numpy import std\n",
    "from pandas import read_csv\n",
    "from sklearn.ensemble import RandomForestClassifier \n",
    "from sklearn.impute import SimpleImputer\n",
    "from sklearn.model_selection import cross_val_score\n",
    "from sklearn.model_selection import RepeatedStratifiedKFold \n",
    "from sklearn.pipeline import Pipeline\n",
    "\n",
    "# load dataset\n",
    "horse_colic_data = horse_colic_data_copy\n",
    "\n",
    "# split into input and output elements\n",
    "data = horse_colic_data.values\n",
    "ix = [i for i in range(data.shape[1]) if i != 23] \n",
    "X, y = data[:, ix], data[:, 23]\n",
    "\n",
    "# define modeling pipeline\n",
    "model = RandomForestClassifier()\n",
    "imputer = SimpleImputer(strategy='mean')\n",
    "pipeline = Pipeline(steps=[('i', imputer), ('m', model)]) \n",
    "\n",
    "# define model evaluation\n",
    "cv = RepeatedStratifiedKFold(n_splits=10, n_repeats=3, random_state=1) \n",
    "\n",
    "# evaluate model\n",
    "scores = cross_val_score(pipeline, X, y, scoring='accuracy', cv=cv, n_jobs=-1) \n",
    "print(f'Mean Accuracy: {round(mean(scores),3)} ({round(std(scores),3)})')"
   ]
  },
  {
   "cell_type": "markdown",
   "id": "b5ef1573-c9c9-489c-a16e-cb4336013bb4",
   "metadata": {},
   "source": [
    "#### Comparing Different Imputed Statistics"
   ]
  },
  {
   "cell_type": "markdown",
   "id": "daf39d4d-fdb0-4703-8302-428d1abb4145",
   "metadata": {},
   "source": [
    "How do we know that using a ‘mean’ statistical strategy is good or best for this dataset? The answer is that we don’t and that it was chosen arbitrarily. We can design an experiment to test each statistical strategy and discover what works best for this dataset, comparing the mean, median, mode (most frequent), and constant (0) strategies. The mean accuracy of each approach can then be compared. The complete example is listed below."
   ]
  },
  {
   "cell_type": "code",
   "execution_count": 51,
   "id": "0cc8d6e2-a1f4-48e1-b5b0-eb6ba13cf6d8",
   "metadata": {},
   "outputs": [
    {
     "name": "stdout",
     "output_type": "stream",
     "text": [
      ">mean 0.867 (0.054)\n",
      ">median 0.873 (0.057)\n",
      ">most_frequent 0.866 (0.062)\n",
      ">constant 0.876 (0.047)\n"
     ]
    },
    {
     "data": {
      "image/png": "[encoded data removed]",
      "text/plain": [
       "<Figure size 640x480 with 1 Axes>"
      ]
     },
     "metadata": {},
     "output_type": "display_data"
    }
   ],
   "source": [
    "# compare statistical imputation strategies for the horse colic dataset from numpy import mean\n",
    "from numpy import std\n",
    "from pandas import read_csv\n",
    "from sklearn.ensemble import RandomForestClassifier \n",
    "from sklearn.impute import SimpleImputer\n",
    "from sklearn.model_selection import cross_val_score\n",
    "from sklearn.model_selection import RepeatedStratifiedKFold \n",
    "from sklearn.pipeline import Pipeline\n",
    "from matplotlib import pyplot \n",
    "\n",
    "# load dataset\n",
    "horse_colic_data = horse_colic_data_copy\n",
    "\n",
    "# split into input and output elements\n",
    "data = horse_colic_data.values\n",
    "ix = [i for i in range(data.shape[1]) if i != 23] \n",
    "X, y = data[:, ix], data[:, 23]\n",
    "\n",
    "# evaluate each strategy on the dataset \n",
    "results = list()\n",
    "strategies = ['mean', 'median', 'most_frequent', 'constant'] \n",
    "\n",
    "for s in strategies:\n",
    "    # create the modeling pipeline\n",
    "    pipeline = Pipeline(steps=[('i', SimpleImputer(strategy=s)), ('m', RandomForestClassifier())])\n",
    "\n",
    "    # evaluate the model\n",
    "    cv = RepeatedStratifiedKFold(n_splits=10, n_repeats=3, random_state=1)\n",
    "    scores = cross_val_score(pipeline, X, y, scoring='accuracy', cv=cv, n_jobs=-1) # store results\n",
    "    results.append(scores)\n",
    "    print('>%s %.3f (%.3f)' % (s, mean(scores), std(scores))) \n",
    "\n",
    "# plot model performance for comparison \n",
    "pyplot.boxplot(results, tick_labels=strategies, showmeans=True) \n",
    "pyplot.show()\n"
   ]
  },
  {
   "cell_type": "markdown",
   "id": "ef18f8e2-117c-4680-84b9-e3e23544f856",
   "metadata": {},
   "source": [
    "#### SimpleImputer Transform When Making a Prediction"
   ]
  },
  {
   "cell_type": "code",
   "execution_count": 56,
   "id": "1fc920aa-27b0-49b8-8ee4-95e504cc4f73",
   "metadata": {},
   "outputs": [
    {
     "name": "stdout",
     "output_type": "stream",
     "text": [
      "Predicted Class: 2\n"
     ]
    }
   ],
   "source": [
    "# constant imputation strategy and prediction for the horse colic dataset from numpy import nan\n",
    "from pandas import read_csv\n",
    "from sklearn.ensemble import RandomForestClassifier \n",
    "from sklearn.impute import SimpleImputer\n",
    "from sklearn.pipeline import Pipeline\n",
    "\n",
    "# load dataset\n",
    "horse_colic_data = horse_colic_data_copy\n",
    "\n",
    "# split into input and output elements\n",
    "data = horse_colic_data.values\n",
    "ix = [i for i in range(data.shape[1]) if i != 23] \n",
    "X, y = data[:, ix], data[:, 23]\n",
    "\n",
    "# create the modeling pipeline\n",
    "pipeline = Pipeline(steps=[('i', SimpleImputer(strategy='constant')), ('m', RandomForestClassifier())])\n",
    "\n",
    "# fit the model \n",
    "pipeline.fit(X, y) \n",
    "\n",
    "# define new data\n",
    "row = [2, 1, 530101, 38.50, 66, 28, 3, 3, np.nan, 2, 5, 4, 4, np.nan, np.nan, np.nan, 3, 5, 45.00, 8.40, np.nan, np.nan, 2, 11300, 00000, 00000, 2]\n",
    "\n",
    "# make a prediction\n",
    "yhat = pipeline.predict([row]) \n",
    "\n",
    "# summarize prediction\n",
    "print('Predicted Class: %d'  % yhat[0])"
   ]
  },
  {
   "cell_type": "code",
   "execution_count": null,
   "id": "ffb2b404-8466-4d4b-81a0-7e83bb6d2d23",
   "metadata": {},
   "outputs": [],
   "source": []
  },
  {
   "cell_type": "code",
   "execution_count": null,
   "id": "bec148c8-ffcf-43b3-9525-a38719b687ac",
   "metadata": {},
   "outputs": [],
   "source": []
  }
 ],
 "metadata": {
  "kernelspec": {
   "display_name": "Python 3 (ipykernel)",
   "language": "python",
   "name": "python3"
  },
  "language_info": {
   "codemirror_mode": {
    "name": "ipython",
    "version": 3
   },
   "file_extension": ".py",
   "mimetype": "text/x-python",
   "name": "python",
   "nbconvert_exporter": "python",
   "pygments_lexer": "ipython3",
   "version": "3.10.6"
  }
 },
 "nbformat": 4,
 "nbformat_minor": 5
}
